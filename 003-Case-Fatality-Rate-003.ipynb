{
 "cells": [
  {
   "cell_type": "code",
   "execution_count": 1,
   "metadata": {},
   "outputs": [],
   "source": [
    "# Lausanne, the 10th of October 2021\n",
    "# Julien Ruppen, PhD\n",
    "\n",
    "# This notebook provides all the details about the processing steps\n",
    "# performed in order to calculate COVID19 Case Fatality Rate (CFR)\n",
    "# by age groupe in Switzerland from the data available in\n",
    "# in Office Federal de la Santé Publique (OFSP)\n",
    "\n",
    "# CFR is calculated by dividing the number of death by the number\n",
    "# of diagnosed cases ( refered to as \"positives case\" from now one )\n",
    "\n",
    "# This is notebook 3/3\n",
    "# We will calculate here COVID case fatality rate\n",
    "\n",
    "\n",
    "# Original Covid-19 data can be found at:\n",
    "# https://www.covid19.admin.ch/fr/overview\n",
    "#\n",
    "# A copy of these data is available at github repo:\n",
    "# https://\n",
    "\n",
    "# Julien RUPPEN\n",
    "\n",
    "# PrivateTeacher\n",
    "# Cours Privés de Science\n",
    "# www.privateteacher.ch\n",
    "\n",
    "# Julien.Ruppen@PrivateTeacher.CH"
   ]
  },
  {
   "cell_type": "code",
   "execution_count": 2,
   "metadata": {},
   "outputs": [],
   "source": [
    "# Conditions d'exploitation, Copyright\n",
    "# https://www.bfs.admin.ch/bfs/fr/home/ofs/statistique-publique/copyright.html"
   ]
  },
  {
   "cell_type": "code",
   "execution_count": null,
   "metadata": {},
   "outputs": [],
   "source": []
  },
  {
   "cell_type": "code",
   "execution_count": 3,
   "metadata": {},
   "outputs": [],
   "source": [
    "# Load plotly for interactive graph\n",
    "import plotly.graph_objects as go\n",
    "\n",
    "# Load panda for dataframe manipulation\n",
    "import pandas as pd\n",
    "\n",
    "# Load module to access current date\n",
    "from datetime import datetime\n",
    "\n",
    "# Load this module to export graph into picture\n",
    "from IPython.display import Image"
   ]
  },
  {
   "cell_type": "code",
   "execution_count": null,
   "metadata": {},
   "outputs": [],
   "source": []
  },
  {
   "cell_type": "code",
   "execution_count": 6,
   "metadata": {},
   "outputs": [],
   "source": [
    "# We read the data prepared in the notebook 1 and 2\n",
    "\n",
    "#today = datetime.today().date()\n",
    "\n",
    "# Number of cases by age group in switzerland\n",
    "cases_filename = 'COVID-Cases-Switzerland-by-Age-Groups.csv'\n",
    "cases_ch_age_gp = pd.read_csv(cases_filename,sep='\\t')\n",
    "\n",
    "# Number of death by age group in switzerland\n",
    "death_filename = 'COVID-Death-Switzerland-by-Age-Groups.csv'\n",
    "death_ch_age_gp = pd.read_csv(death_filename,sep='\\t')"
   ]
  },
  {
   "cell_type": "code",
   "execution_count": null,
   "metadata": {},
   "outputs": [],
   "source": []
  },
  {
   "cell_type": "code",
   "execution_count": 7,
   "metadata": {},
   "outputs": [],
   "source": [
    "# We now create two dataframes\n",
    "\n",
    "# One to store COVID case fatality rate for each age group\n",
    "case_fatality_rate = pd.DataFrame()\n",
    "\n",
    "# One to store the relative contribution of each age group\n",
    "# to the total CFR\n",
    "case_fatality_rate_contribution = pd.DataFrame()"
   ]
  },
  {
   "cell_type": "code",
   "execution_count": null,
   "metadata": {},
   "outputs": [],
   "source": []
  },
  {
   "cell_type": "code",
   "execution_count": 8,
   "metadata": {},
   "outputs": [],
   "source": [
    "# We calculate COVID case fatality rate for each age group\n",
    "\n",
    "case_fatality_rate['00'] = death_ch_age_gp['00'].cumsum() / cases_ch_age_gp['00'].cumsum() * 100\n",
    "case_fatality_rate['10'] = death_ch_age_gp['10'].cumsum() / cases_ch_age_gp['10'].cumsum() * 100\n",
    "case_fatality_rate['20'] = death_ch_age_gp['20'].cumsum() / cases_ch_age_gp['20'].cumsum() * 100\n",
    "case_fatality_rate['30'] = death_ch_age_gp['30'].cumsum() / cases_ch_age_gp['30'].cumsum() * 100\n",
    "case_fatality_rate['40'] = death_ch_age_gp['40'].cumsum() / cases_ch_age_gp['40'].cumsum() * 100\n",
    "case_fatality_rate['50'] = death_ch_age_gp['50'].cumsum() / cases_ch_age_gp['50'].cumsum() * 100\n",
    "case_fatality_rate['60'] = death_ch_age_gp['60'].cumsum() / cases_ch_age_gp['60'].cumsum() * 100\n",
    "case_fatality_rate['70'] = death_ch_age_gp['70'].cumsum() / cases_ch_age_gp['70'].cumsum() * 100\n",
    "case_fatality_rate['80'] = death_ch_age_gp['80'].cumsum() / cases_ch_age_gp['80'].cumsum() * 100"
   ]
  },
  {
   "cell_type": "code",
   "execution_count": 9,
   "metadata": {},
   "outputs": [],
   "source": [
    "# Total CFR at a given time is given by the sum of all death over\n",
    "# the sum of all positive case\n",
    "case_fatality_rate['Total'] = death_ch_age_gp['CumAgeSum'] / cases_ch_age_gp['CumAgeSum'] * 100\n",
    "\n",
    "# Note:\n",
    "# !! CFR of each age group does not sum up to total CFR !!"
   ]
  },
  {
   "cell_type": "code",
   "execution_count": 10,
   "metadata": {},
   "outputs": [],
   "source": [
    "# We set the index of the dataframe with a regular date\n",
    "case_fatality_rate.index = cases_ch_age_gp['wednes_date']"
   ]
  },
  {
   "cell_type": "code",
   "execution_count": 11,
   "metadata": {},
   "outputs": [
    {
     "data": {
      "text/html": [
       "<div>\n",
       "<style scoped>\n",
       "    .dataframe tbody tr th:only-of-type {\n",
       "        vertical-align: middle;\n",
       "    }\n",
       "\n",
       "    .dataframe tbody tr th {\n",
       "        vertical-align: top;\n",
       "    }\n",
       "\n",
       "    .dataframe thead th {\n",
       "        text-align: right;\n",
       "    }\n",
       "</style>\n",
       "<table border=\"1\" class=\"dataframe\">\n",
       "  <thead>\n",
       "    <tr style=\"text-align: right;\">\n",
       "      <th></th>\n",
       "      <th>00</th>\n",
       "      <th>10</th>\n",
       "      <th>20</th>\n",
       "      <th>30</th>\n",
       "      <th>40</th>\n",
       "      <th>50</th>\n",
       "      <th>60</th>\n",
       "      <th>70</th>\n",
       "      <th>80</th>\n",
       "      <th>Total</th>\n",
       "    </tr>\n",
       "    <tr>\n",
       "      <th>wednes_date</th>\n",
       "      <th></th>\n",
       "      <th></th>\n",
       "      <th></th>\n",
       "      <th></th>\n",
       "      <th></th>\n",
       "      <th></th>\n",
       "      <th></th>\n",
       "      <th></th>\n",
       "      <th></th>\n",
       "      <th></th>\n",
       "    </tr>\n",
       "  </thead>\n",
       "  <tbody>\n",
       "    <tr>\n",
       "      <th>2020-02-26</th>\n",
       "      <td>0.0</td>\n",
       "      <td>0.0</td>\n",
       "      <td>0.0</td>\n",
       "      <td>0.000000</td>\n",
       "      <td>0.000000</td>\n",
       "      <td>0.000000</td>\n",
       "      <td>0.000000</td>\n",
       "      <td>0.000000</td>\n",
       "      <td>0.000000</td>\n",
       "      <td>0.000000</td>\n",
       "    </tr>\n",
       "    <tr>\n",
       "      <th>2020-03-04</th>\n",
       "      <td>0.0</td>\n",
       "      <td>0.0</td>\n",
       "      <td>0.0</td>\n",
       "      <td>0.000000</td>\n",
       "      <td>0.000000</td>\n",
       "      <td>0.000000</td>\n",
       "      <td>1.960784</td>\n",
       "      <td>5.555556</td>\n",
       "      <td>0.000000</td>\n",
       "      <td>0.692841</td>\n",
       "    </tr>\n",
       "    <tr>\n",
       "      <th>2020-03-11</th>\n",
       "      <td>0.0</td>\n",
       "      <td>0.0</td>\n",
       "      <td>0.0</td>\n",
       "      <td>0.232558</td>\n",
       "      <td>0.000000</td>\n",
       "      <td>0.182149</td>\n",
       "      <td>0.906344</td>\n",
       "      <td>2.372881</td>\n",
       "      <td>7.207207</td>\n",
       "      <td>1.038961</td>\n",
       "    </tr>\n",
       "    <tr>\n",
       "      <th>2020-03-18</th>\n",
       "      <td>0.0</td>\n",
       "      <td>0.0</td>\n",
       "      <td>0.0</td>\n",
       "      <td>0.074074</td>\n",
       "      <td>0.132188</td>\n",
       "      <td>0.200904</td>\n",
       "      <td>0.728745</td>\n",
       "      <td>3.441084</td>\n",
       "      <td>9.512195</td>\n",
       "      <td>1.375203</td>\n",
       "    </tr>\n",
       "    <tr>\n",
       "      <th>2020-03-25</th>\n",
       "      <td>0.0</td>\n",
       "      <td>0.0</td>\n",
       "      <td>0.0</td>\n",
       "      <td>0.088067</td>\n",
       "      <td>0.075216</td>\n",
       "      <td>0.253450</td>\n",
       "      <td>1.509769</td>\n",
       "      <td>5.660377</td>\n",
       "      <td>13.325740</td>\n",
       "      <td>2.292471</td>\n",
       "    </tr>\n",
       "  </tbody>\n",
       "</table>\n",
       "</div>"
      ],
      "text/plain": [
       "              00   10   20        30        40        50        60        70  \\\n",
       "wednes_date                                                                    \n",
       "2020-02-26   0.0  0.0  0.0  0.000000  0.000000  0.000000  0.000000  0.000000   \n",
       "2020-03-04   0.0  0.0  0.0  0.000000  0.000000  0.000000  1.960784  5.555556   \n",
       "2020-03-11   0.0  0.0  0.0  0.232558  0.000000  0.182149  0.906344  2.372881   \n",
       "2020-03-18   0.0  0.0  0.0  0.074074  0.132188  0.200904  0.728745  3.441084   \n",
       "2020-03-25   0.0  0.0  0.0  0.088067  0.075216  0.253450  1.509769  5.660377   \n",
       "\n",
       "                    80     Total  \n",
       "wednes_date                       \n",
       "2020-02-26    0.000000  0.000000  \n",
       "2020-03-04    0.000000  0.692841  \n",
       "2020-03-11    7.207207  1.038961  \n",
       "2020-03-18    9.512195  1.375203  \n",
       "2020-03-25   13.325740  2.292471  "
      ]
     },
     "execution_count": 11,
     "metadata": {},
     "output_type": "execute_result"
    }
   ],
   "source": [
    "# We display the content of this dataframe\n",
    "# This is the COVID CFR for each age group\n",
    "\n",
    "case_fatality_rate.head(5)"
   ]
  },
  {
   "cell_type": "code",
   "execution_count": 12,
   "metadata": {},
   "outputs": [],
   "source": [
    "# We now save this dataframe into a file\n",
    "\n",
    "today = datetime.today().date()\n",
    "filename = str(today)+'-COVID-Case-Fatality-Rate-Switzerland-by-Age-Groups'+'.csv'\n",
    "case_fatality_rate.to_csv(filename, sep='\\t')"
   ]
  },
  {
   "cell_type": "code",
   "execution_count": null,
   "metadata": {},
   "outputs": [],
   "source": []
  },
  {
   "cell_type": "code",
   "execution_count": null,
   "metadata": {},
   "outputs": [],
   "source": []
  },
  {
   "cell_type": "code",
   "execution_count": 13,
   "metadata": {},
   "outputs": [],
   "source": [
    "# We calculate the relative contribution of each age group\n",
    "# to the total COVID case fatality rate\n",
    "\n",
    "case_fatality_rate_contribution['00'] = death_ch_age_gp['00'].cumsum() / cases_ch_age_gp['CumAgeSum'] * 100\n",
    "case_fatality_rate_contribution['10'] = death_ch_age_gp['10'].cumsum() / cases_ch_age_gp['CumAgeSum'] * 100\n",
    "case_fatality_rate_contribution['20'] = death_ch_age_gp['20'].cumsum() / cases_ch_age_gp['CumAgeSum'] * 100\n",
    "case_fatality_rate_contribution['30'] = death_ch_age_gp['30'].cumsum() / cases_ch_age_gp['CumAgeSum'] * 100\n",
    "case_fatality_rate_contribution['40'] = death_ch_age_gp['40'].cumsum() / cases_ch_age_gp['CumAgeSum'] * 100\n",
    "case_fatality_rate_contribution['50'] = death_ch_age_gp['50'].cumsum() / cases_ch_age_gp['CumAgeSum'] * 100\n",
    "case_fatality_rate_contribution['60'] = death_ch_age_gp['60'].cumsum() / cases_ch_age_gp['CumAgeSum'] * 100\n",
    "case_fatality_rate_contribution['70'] = death_ch_age_gp['70'].cumsum() / cases_ch_age_gp['CumAgeSum'] * 100\n",
    "case_fatality_rate_contribution['80'] = death_ch_age_gp['80'].cumsum() / cases_ch_age_gp['CumAgeSum'] * 100"
   ]
  },
  {
   "cell_type": "code",
   "execution_count": 14,
   "metadata": {},
   "outputs": [],
   "source": [
    "# Relative contribution of each age group sum up to the total CFR\n",
    "tmp_sum = case_fatality_rate_contribution.sum(axis=1).tolist()\n",
    "case_fatality_rate_contribution['Total'] = tmp_sum"
   ]
  },
  {
   "cell_type": "code",
   "execution_count": 15,
   "metadata": {},
   "outputs": [],
   "source": [
    "# We set the index of the dataframe with a regular date\n",
    "case_fatality_rate_contribution.index = cases_ch_age_gp['wednes_date']"
   ]
  },
  {
   "cell_type": "code",
   "execution_count": 16,
   "metadata": {},
   "outputs": [
    {
     "data": {
      "text/html": [
       "<div>\n",
       "<style scoped>\n",
       "    .dataframe tbody tr th:only-of-type {\n",
       "        vertical-align: middle;\n",
       "    }\n",
       "\n",
       "    .dataframe tbody tr th {\n",
       "        vertical-align: top;\n",
       "    }\n",
       "\n",
       "    .dataframe thead th {\n",
       "        text-align: right;\n",
       "    }\n",
       "</style>\n",
       "<table border=\"1\" class=\"dataframe\">\n",
       "  <thead>\n",
       "    <tr style=\"text-align: right;\">\n",
       "      <th></th>\n",
       "      <th>00</th>\n",
       "      <th>10</th>\n",
       "      <th>20</th>\n",
       "      <th>30</th>\n",
       "      <th>40</th>\n",
       "      <th>50</th>\n",
       "      <th>60</th>\n",
       "      <th>70</th>\n",
       "      <th>80</th>\n",
       "      <th>Total</th>\n",
       "    </tr>\n",
       "    <tr>\n",
       "      <th>wednes_date</th>\n",
       "      <th></th>\n",
       "      <th></th>\n",
       "      <th></th>\n",
       "      <th></th>\n",
       "      <th></th>\n",
       "      <th></th>\n",
       "      <th></th>\n",
       "      <th></th>\n",
       "      <th></th>\n",
       "      <th></th>\n",
       "    </tr>\n",
       "  </thead>\n",
       "  <tbody>\n",
       "    <tr>\n",
       "      <th>2020-02-26</th>\n",
       "      <td>0.0</td>\n",
       "      <td>0.0</td>\n",
       "      <td>0.0</td>\n",
       "      <td>0.000000</td>\n",
       "      <td>0.000000</td>\n",
       "      <td>0.000000</td>\n",
       "      <td>0.000000</td>\n",
       "      <td>0.000000</td>\n",
       "      <td>0.000000</td>\n",
       "      <td>0.000000</td>\n",
       "    </tr>\n",
       "    <tr>\n",
       "      <th>2020-03-04</th>\n",
       "      <td>0.0</td>\n",
       "      <td>0.0</td>\n",
       "      <td>0.0</td>\n",
       "      <td>0.000000</td>\n",
       "      <td>0.000000</td>\n",
       "      <td>0.000000</td>\n",
       "      <td>0.230947</td>\n",
       "      <td>0.461894</td>\n",
       "      <td>0.000000</td>\n",
       "      <td>0.692841</td>\n",
       "    </tr>\n",
       "    <tr>\n",
       "      <th>2020-03-11</th>\n",
       "      <td>0.0</td>\n",
       "      <td>0.0</td>\n",
       "      <td>0.0</td>\n",
       "      <td>0.037106</td>\n",
       "      <td>0.000000</td>\n",
       "      <td>0.037106</td>\n",
       "      <td>0.111317</td>\n",
       "      <td>0.259740</td>\n",
       "      <td>0.593692</td>\n",
       "      <td>1.038961</td>\n",
       "    </tr>\n",
       "    <tr>\n",
       "      <th>2020-03-18</th>\n",
       "      <td>0.0</td>\n",
       "      <td>0.0</td>\n",
       "      <td>0.0</td>\n",
       "      <td>0.010828</td>\n",
       "      <td>0.021657</td>\n",
       "      <td>0.043313</td>\n",
       "      <td>0.097455</td>\n",
       "      <td>0.357336</td>\n",
       "      <td>0.844613</td>\n",
       "      <td>1.375203</td>\n",
       "    </tr>\n",
       "    <tr>\n",
       "      <th>2020-03-25</th>\n",
       "      <td>0.0</td>\n",
       "      <td>0.0</td>\n",
       "      <td>0.0</td>\n",
       "      <td>0.012066</td>\n",
       "      <td>0.012066</td>\n",
       "      <td>0.054295</td>\n",
       "      <td>0.205116</td>\n",
       "      <td>0.597249</td>\n",
       "      <td>1.411680</td>\n",
       "      <td>2.292471</td>\n",
       "    </tr>\n",
       "  </tbody>\n",
       "</table>\n",
       "</div>"
      ],
      "text/plain": [
       "              00   10   20        30        40        50        60        70  \\\n",
       "wednes_date                                                                    \n",
       "2020-02-26   0.0  0.0  0.0  0.000000  0.000000  0.000000  0.000000  0.000000   \n",
       "2020-03-04   0.0  0.0  0.0  0.000000  0.000000  0.000000  0.230947  0.461894   \n",
       "2020-03-11   0.0  0.0  0.0  0.037106  0.000000  0.037106  0.111317  0.259740   \n",
       "2020-03-18   0.0  0.0  0.0  0.010828  0.021657  0.043313  0.097455  0.357336   \n",
       "2020-03-25   0.0  0.0  0.0  0.012066  0.012066  0.054295  0.205116  0.597249   \n",
       "\n",
       "                   80     Total  \n",
       "wednes_date                      \n",
       "2020-02-26   0.000000  0.000000  \n",
       "2020-03-04   0.000000  0.692841  \n",
       "2020-03-11   0.593692  1.038961  \n",
       "2020-03-18   0.844613  1.375203  \n",
       "2020-03-25   1.411680  2.292471  "
      ]
     },
     "execution_count": 16,
     "metadata": {},
     "output_type": "execute_result"
    }
   ],
   "source": [
    "# We display the content of this dataframe\n",
    "# This is the contribution of each age group\n",
    "# to the total CFR\n",
    "\n",
    "case_fatality_rate_contribution.head(5)"
   ]
  },
  {
   "cell_type": "code",
   "execution_count": 17,
   "metadata": {},
   "outputs": [],
   "source": [
    "# We now save this dataframe into a file\n",
    "\n",
    "today = datetime.today().date()\n",
    "filename = str(today)+'-COVID-Case-Fatality-Rate-Switzerland-Contribution-by-Age-Groups'+'.csv'\n",
    "case_fatality_rate_contribution.to_csv(filename, sep='\\t')"
   ]
  },
  {
   "cell_type": "code",
   "execution_count": null,
   "metadata": {},
   "outputs": [],
   "source": []
  },
  {
   "cell_type": "code",
   "execution_count": null,
   "metadata": {},
   "outputs": [],
   "source": []
  },
  {
   "cell_type": "code",
   "execution_count": 34,
   "metadata": {},
   "outputs": [
    {
     "data": {
      "application/vnd.plotly.v1+json": {
       "config": {
        "plotlyServerURL": "https://plot.ly"
       },
       "data": [
        {
         "line": {
          "color": "blue",
          "width": 4
         },
         "name": "Tot",
         "type": "scatter",
         "x": [
          "2020-02-26",
          "2020-03-04",
          "2020-03-11",
          "2020-03-18",
          "2020-03-25",
          "2020-04-01",
          "2020-04-08",
          "2020-04-15",
          "2020-04-22",
          "2020-04-29",
          "2020-05-06",
          "2020-05-13",
          "2020-05-20",
          "2020-05-27",
          "2020-06-03",
          "2020-06-10",
          "2020-06-17",
          "2020-06-24",
          "2020-07-01",
          "2020-07-08",
          "2020-07-15",
          "2020-07-22",
          "2020-07-29",
          "2020-08-05",
          "2020-08-12",
          "2020-08-19",
          "2020-08-26",
          "2020-09-02",
          "2020-09-09",
          "2020-09-16",
          "2020-09-23",
          "2020-09-30",
          "2020-10-07",
          "2020-10-14",
          "2020-10-21",
          "2020-10-28",
          "2020-11-04",
          "2020-11-11",
          "2020-11-18",
          "2020-11-25",
          "2020-12-02",
          "2020-12-09",
          "2020-12-16",
          "2020-12-23",
          "2020-12-30",
          "2021-01-06",
          "2021-01-13",
          "2021-01-20",
          "2021-01-27",
          "2021-02-03",
          "2021-02-10",
          "2021-02-17",
          "2021-02-24",
          "2021-03-03",
          "2021-03-10",
          "2021-03-17",
          "2021-03-24",
          "2021-03-31",
          "2021-04-07",
          "2021-04-14",
          "2021-04-21",
          "2021-04-28",
          "2021-05-05",
          "2021-05-12",
          "2021-05-19",
          "2021-05-26",
          "2021-06-02",
          "2021-06-09",
          "2021-06-16",
          "2021-06-23",
          "2021-06-30",
          "2021-07-07",
          "2021-07-14",
          "2021-07-21",
          "2021-07-28",
          "2021-08-04",
          "2021-08-11",
          "2021-08-18",
          "2021-08-25",
          "2021-09-01",
          "2021-09-08",
          "2021-09-15",
          "2021-09-22",
          "2021-09-29",
          "2021-10-06",
          "2021-10-13",
          "2021-10-20",
          "2021-10-27"
         ],
         "y": [
          0,
          0.6928406466512702,
          1.0389610389610389,
          1.3752030319436925,
          2.2924710424710426,
          3.385854651677436,
          4.2304608453285475,
          4.81321582759482,
          5.285332602589573,
          5.466162646773491,
          5.572060474021258,
          5.588861588861589,
          5.606440887903777,
          5.5964940756370725,
          5.581982331812445,
          5.5696936507425185,
          5.545588517972704,
          5.486047321909347,
          5.3759107115175935,
          5.281240498631803,
          5.180776670138372,
          5.071011588394179,
          4.920474343843084,
          4.7865670828108815,
          4.6027182435964455,
          4.4024530089245655,
          4.1937165331943325,
          3.992118756017285,
          3.7897439134734765,
          3.6011025402050407,
          3.4738181610985546,
          3.2791559737667524,
          2.8659523625992445,
          2.2621644693161342,
          1.6554315572184235,
          1.323531047369065,
          1.2722337897329565,
          1.318556240045233,
          1.3950317581723255,
          1.4735888940894308,
          1.5309378194159735,
          1.5693736561798806,
          1.6136093715607092,
          1.6606153170785243,
          1.6952978328576545,
          1.704816157431383,
          1.728230918161588,
          1.7476104062700437,
          1.7554428481816375,
          1.7532864739502612,
          1.7514598580637049,
          1.7448770024188764,
          1.7335509956972042,
          1.7214041424620135,
          1.7080688268250293,
          1.6879384841724614,
          1.6624408824850638,
          1.6404819245332158,
          1.6132877564104628,
          1.5847638369525154,
          1.5576515880654476,
          1.5399808239646,
          1.522466204645428,
          1.5093195403449327,
          1.4979839032623052,
          1.4896723183441019,
          1.48559348237206,
          1.4828224798468013,
          1.4819170916250295,
          1.4813417262690884,
          1.4796007204615065,
          1.4757175445312356,
          1.4680820948336872,
          1.4585664247201497,
          1.4494270242515317,
          1.4346007872287256,
          1.4090381571053847,
          1.3789055218357555,
          1.3524857996740187,
          1.327051987551637,
          1.3039109933121706,
          1.2886460295574156,
          1.2792724025693465,
          1.2717105357049412,
          1.265586711929707,
          1.2597235238987816,
          1.250629141607309,
          1.2388701961592161
         ]
        }
       ],
       "layout": {
        "annotations": [
         {
          "font": {
           "size": 12
          },
          "showarrow": false,
          "text": "#SwissCovidStat",
          "x": 1,
          "xref": "paper",
          "y": 0.7,
          "yref": "paper"
         },
         {
          "font": {
           "size": 14
          },
          "showarrow": false,
          "text": "Selon les statistiques de l'OFSP, le 10 octobre 2021",
          "x": 1,
          "xref": "paper",
          "y": -0.2,
          "yref": "paper"
         },
         {
          "font": {
           "color": "red",
           "size": 18
          },
          "showarrow": false,
          "text": "Létalité réelle (IFR)",
          "x": 0.08,
          "xref": "paper",
          "y": 0.16,
          "yref": "paper"
         }
        ],
        "autosize": true,
        "font": {
         "color": "Black",
         "family": "Roman",
         "size": 18
        },
        "images": [
         {
          "sizex": 0.25,
          "sizey": 0.25,
          "source": "https://www.privateteacher.ch/sites/default/files/2021-08/PrivateTeacher-300px-Square-Logo-WhithBG.png",
          "x": 0.84,
          "xref": "paper",
          "y": 0.98,
          "yref": "paper"
         }
        ],
        "shapes": [
         {
          "line": {
           "color": "red",
           "dash": "dash",
           "width": 4
          },
          "type": "line",
          "x0": 0,
          "x1": 1,
          "xref": "x domain",
          "y0": 0.6,
          "y1": 0.6,
          "yref": "y"
         }
        ],
        "showlegend": false,
        "template": {
         "data": {
          "bar": [
           {
            "error_x": {
             "color": "#2a3f5f"
            },
            "error_y": {
             "color": "#2a3f5f"
            },
            "marker": {
             "line": {
              "color": "#E5ECF6",
              "width": 0.5
             }
            },
            "type": "bar"
           }
          ],
          "barpolar": [
           {
            "marker": {
             "line": {
              "color": "#E5ECF6",
              "width": 0.5
             }
            },
            "type": "barpolar"
           }
          ],
          "carpet": [
           {
            "aaxis": {
             "endlinecolor": "#2a3f5f",
             "gridcolor": "white",
             "linecolor": "white",
             "minorgridcolor": "white",
             "startlinecolor": "#2a3f5f"
            },
            "baxis": {
             "endlinecolor": "#2a3f5f",
             "gridcolor": "white",
             "linecolor": "white",
             "minorgridcolor": "white",
             "startlinecolor": "#2a3f5f"
            },
            "type": "carpet"
           }
          ],
          "choropleth": [
           {
            "colorbar": {
             "outlinewidth": 0,
             "ticks": ""
            },
            "type": "choropleth"
           }
          ],
          "contour": [
           {
            "colorbar": {
             "outlinewidth": 0,
             "ticks": ""
            },
            "colorscale": [
             [
              0,
              "#0d0887"
             ],
             [
              0.1111111111111111,
              "#46039f"
             ],
             [
              0.2222222222222222,
              "#7201a8"
             ],
             [
              0.3333333333333333,
              "#9c179e"
             ],
             [
              0.4444444444444444,
              "#bd3786"
             ],
             [
              0.5555555555555556,
              "#d8576b"
             ],
             [
              0.6666666666666666,
              "#ed7953"
             ],
             [
              0.7777777777777778,
              "#fb9f3a"
             ],
             [
              0.8888888888888888,
              "#fdca26"
             ],
             [
              1,
              "#f0f921"
             ]
            ],
            "type": "contour"
           }
          ],
          "contourcarpet": [
           {
            "colorbar": {
             "outlinewidth": 0,
             "ticks": ""
            },
            "type": "contourcarpet"
           }
          ],
          "heatmap": [
           {
            "colorbar": {
             "outlinewidth": 0,
             "ticks": ""
            },
            "colorscale": [
             [
              0,
              "#0d0887"
             ],
             [
              0.1111111111111111,
              "#46039f"
             ],
             [
              0.2222222222222222,
              "#7201a8"
             ],
             [
              0.3333333333333333,
              "#9c179e"
             ],
             [
              0.4444444444444444,
              "#bd3786"
             ],
             [
              0.5555555555555556,
              "#d8576b"
             ],
             [
              0.6666666666666666,
              "#ed7953"
             ],
             [
              0.7777777777777778,
              "#fb9f3a"
             ],
             [
              0.8888888888888888,
              "#fdca26"
             ],
             [
              1,
              "#f0f921"
             ]
            ],
            "type": "heatmap"
           }
          ],
          "heatmapgl": [
           {
            "colorbar": {
             "outlinewidth": 0,
             "ticks": ""
            },
            "colorscale": [
             [
              0,
              "#0d0887"
             ],
             [
              0.1111111111111111,
              "#46039f"
             ],
             [
              0.2222222222222222,
              "#7201a8"
             ],
             [
              0.3333333333333333,
              "#9c179e"
             ],
             [
              0.4444444444444444,
              "#bd3786"
             ],
             [
              0.5555555555555556,
              "#d8576b"
             ],
             [
              0.6666666666666666,
              "#ed7953"
             ],
             [
              0.7777777777777778,
              "#fb9f3a"
             ],
             [
              0.8888888888888888,
              "#fdca26"
             ],
             [
              1,
              "#f0f921"
             ]
            ],
            "type": "heatmapgl"
           }
          ],
          "histogram": [
           {
            "marker": {
             "colorbar": {
              "outlinewidth": 0,
              "ticks": ""
             }
            },
            "type": "histogram"
           }
          ],
          "histogram2d": [
           {
            "colorbar": {
             "outlinewidth": 0,
             "ticks": ""
            },
            "colorscale": [
             [
              0,
              "#0d0887"
             ],
             [
              0.1111111111111111,
              "#46039f"
             ],
             [
              0.2222222222222222,
              "#7201a8"
             ],
             [
              0.3333333333333333,
              "#9c179e"
             ],
             [
              0.4444444444444444,
              "#bd3786"
             ],
             [
              0.5555555555555556,
              "#d8576b"
             ],
             [
              0.6666666666666666,
              "#ed7953"
             ],
             [
              0.7777777777777778,
              "#fb9f3a"
             ],
             [
              0.8888888888888888,
              "#fdca26"
             ],
             [
              1,
              "#f0f921"
             ]
            ],
            "type": "histogram2d"
           }
          ],
          "histogram2dcontour": [
           {
            "colorbar": {
             "outlinewidth": 0,
             "ticks": ""
            },
            "colorscale": [
             [
              0,
              "#0d0887"
             ],
             [
              0.1111111111111111,
              "#46039f"
             ],
             [
              0.2222222222222222,
              "#7201a8"
             ],
             [
              0.3333333333333333,
              "#9c179e"
             ],
             [
              0.4444444444444444,
              "#bd3786"
             ],
             [
              0.5555555555555556,
              "#d8576b"
             ],
             [
              0.6666666666666666,
              "#ed7953"
             ],
             [
              0.7777777777777778,
              "#fb9f3a"
             ],
             [
              0.8888888888888888,
              "#fdca26"
             ],
             [
              1,
              "#f0f921"
             ]
            ],
            "type": "histogram2dcontour"
           }
          ],
          "mesh3d": [
           {
            "colorbar": {
             "outlinewidth": 0,
             "ticks": ""
            },
            "type": "mesh3d"
           }
          ],
          "parcoords": [
           {
            "line": {
             "colorbar": {
              "outlinewidth": 0,
              "ticks": ""
             }
            },
            "type": "parcoords"
           }
          ],
          "pie": [
           {
            "automargin": true,
            "type": "pie"
           }
          ],
          "scatter": [
           {
            "marker": {
             "colorbar": {
              "outlinewidth": 0,
              "ticks": ""
             }
            },
            "type": "scatter"
           }
          ],
          "scatter3d": [
           {
            "line": {
             "colorbar": {
              "outlinewidth": 0,
              "ticks": ""
             }
            },
            "marker": {
             "colorbar": {
              "outlinewidth": 0,
              "ticks": ""
             }
            },
            "type": "scatter3d"
           }
          ],
          "scattercarpet": [
           {
            "marker": {
             "colorbar": {
              "outlinewidth": 0,
              "ticks": ""
             }
            },
            "type": "scattercarpet"
           }
          ],
          "scattergeo": [
           {
            "marker": {
             "colorbar": {
              "outlinewidth": 0,
              "ticks": ""
             }
            },
            "type": "scattergeo"
           }
          ],
          "scattergl": [
           {
            "marker": {
             "colorbar": {
              "outlinewidth": 0,
              "ticks": ""
             }
            },
            "type": "scattergl"
           }
          ],
          "scattermapbox": [
           {
            "marker": {
             "colorbar": {
              "outlinewidth": 0,
              "ticks": ""
             }
            },
            "type": "scattermapbox"
           }
          ],
          "scatterpolar": [
           {
            "marker": {
             "colorbar": {
              "outlinewidth": 0,
              "ticks": ""
             }
            },
            "type": "scatterpolar"
           }
          ],
          "scatterpolargl": [
           {
            "marker": {
             "colorbar": {
              "outlinewidth": 0,
              "ticks": ""
             }
            },
            "type": "scatterpolargl"
           }
          ],
          "scatterternary": [
           {
            "marker": {
             "colorbar": {
              "outlinewidth": 0,
              "ticks": ""
             }
            },
            "type": "scatterternary"
           }
          ],
          "surface": [
           {
            "colorbar": {
             "outlinewidth": 0,
             "ticks": ""
            },
            "colorscale": [
             [
              0,
              "#0d0887"
             ],
             [
              0.1111111111111111,
              "#46039f"
             ],
             [
              0.2222222222222222,
              "#7201a8"
             ],
             [
              0.3333333333333333,
              "#9c179e"
             ],
             [
              0.4444444444444444,
              "#bd3786"
             ],
             [
              0.5555555555555556,
              "#d8576b"
             ],
             [
              0.6666666666666666,
              "#ed7953"
             ],
             [
              0.7777777777777778,
              "#fb9f3a"
             ],
             [
              0.8888888888888888,
              "#fdca26"
             ],
             [
              1,
              "#f0f921"
             ]
            ],
            "type": "surface"
           }
          ],
          "table": [
           {
            "cells": {
             "fill": {
              "color": "#EBF0F8"
             },
             "line": {
              "color": "white"
             }
            },
            "header": {
             "fill": {
              "color": "#C8D4E3"
             },
             "line": {
              "color": "white"
             }
            },
            "type": "table"
           }
          ]
         },
         "layout": {
          "annotationdefaults": {
           "arrowcolor": "#2a3f5f",
           "arrowhead": 0,
           "arrowwidth": 1
          },
          "autotypenumbers": "strict",
          "coloraxis": {
           "colorbar": {
            "outlinewidth": 0,
            "ticks": ""
           }
          },
          "colorscale": {
           "diverging": [
            [
             0,
             "#8e0152"
            ],
            [
             0.1,
             "#c51b7d"
            ],
            [
             0.2,
             "#de77ae"
            ],
            [
             0.3,
             "#f1b6da"
            ],
            [
             0.4,
             "#fde0ef"
            ],
            [
             0.5,
             "#f7f7f7"
            ],
            [
             0.6,
             "#e6f5d0"
            ],
            [
             0.7,
             "#b8e186"
            ],
            [
             0.8,
             "#7fbc41"
            ],
            [
             0.9,
             "#4d9221"
            ],
            [
             1,
             "#276419"
            ]
           ],
           "sequential": [
            [
             0,
             "#0d0887"
            ],
            [
             0.1111111111111111,
             "#46039f"
            ],
            [
             0.2222222222222222,
             "#7201a8"
            ],
            [
             0.3333333333333333,
             "#9c179e"
            ],
            [
             0.4444444444444444,
             "#bd3786"
            ],
            [
             0.5555555555555556,
             "#d8576b"
            ],
            [
             0.6666666666666666,
             "#ed7953"
            ],
            [
             0.7777777777777778,
             "#fb9f3a"
            ],
            [
             0.8888888888888888,
             "#fdca26"
            ],
            [
             1,
             "#f0f921"
            ]
           ],
           "sequentialminus": [
            [
             0,
             "#0d0887"
            ],
            [
             0.1111111111111111,
             "#46039f"
            ],
            [
             0.2222222222222222,
             "#7201a8"
            ],
            [
             0.3333333333333333,
             "#9c179e"
            ],
            [
             0.4444444444444444,
             "#bd3786"
            ],
            [
             0.5555555555555556,
             "#d8576b"
            ],
            [
             0.6666666666666666,
             "#ed7953"
            ],
            [
             0.7777777777777778,
             "#fb9f3a"
            ],
            [
             0.8888888888888888,
             "#fdca26"
            ],
            [
             1,
             "#f0f921"
            ]
           ]
          },
          "colorway": [
           "#636efa",
           "#EF553B",
           "#00cc96",
           "#ab63fa",
           "#FFA15A",
           "#19d3f3",
           "#FF6692",
           "#B6E880",
           "#FF97FF",
           "#FECB52"
          ],
          "font": {
           "color": "#2a3f5f"
          },
          "geo": {
           "bgcolor": "white",
           "lakecolor": "white",
           "landcolor": "#E5ECF6",
           "showlakes": true,
           "showland": true,
           "subunitcolor": "white"
          },
          "hoverlabel": {
           "align": "left"
          },
          "hovermode": "closest",
          "mapbox": {
           "style": "light"
          },
          "paper_bgcolor": "white",
          "plot_bgcolor": "#E5ECF6",
          "polar": {
           "angularaxis": {
            "gridcolor": "white",
            "linecolor": "white",
            "ticks": ""
           },
           "bgcolor": "#E5ECF6",
           "radialaxis": {
            "gridcolor": "white",
            "linecolor": "white",
            "ticks": ""
           }
          },
          "scene": {
           "xaxis": {
            "backgroundcolor": "#E5ECF6",
            "gridcolor": "white",
            "gridwidth": 2,
            "linecolor": "white",
            "showbackground": true,
            "ticks": "",
            "zerolinecolor": "white"
           },
           "yaxis": {
            "backgroundcolor": "#E5ECF6",
            "gridcolor": "white",
            "gridwidth": 2,
            "linecolor": "white",
            "showbackground": true,
            "ticks": "",
            "zerolinecolor": "white"
           },
           "zaxis": {
            "backgroundcolor": "#E5ECF6",
            "gridcolor": "white",
            "gridwidth": 2,
            "linecolor": "white",
            "showbackground": true,
            "ticks": "",
            "zerolinecolor": "white"
           }
          },
          "shapedefaults": {
           "line": {
            "color": "#2a3f5f"
           }
          },
          "ternary": {
           "aaxis": {
            "gridcolor": "white",
            "linecolor": "white",
            "ticks": ""
           },
           "baxis": {
            "gridcolor": "white",
            "linecolor": "white",
            "ticks": ""
           },
           "bgcolor": "#E5ECF6",
           "caxis": {
            "gridcolor": "white",
            "linecolor": "white",
            "ticks": ""
           }
          },
          "title": {
           "x": 0.05
          },
          "xaxis": {
           "automargin": true,
           "gridcolor": "white",
           "linecolor": "white",
           "ticks": "",
           "title": {
            "standoff": 15
           },
           "zerolinecolor": "white",
           "zerolinewidth": 2
          },
          "yaxis": {
           "automargin": true,
           "gridcolor": "white",
           "linecolor": "white",
           "ticks": "",
           "title": {
            "standoff": 15
           },
           "zerolinecolor": "white",
           "zerolinewidth": 2
          }
         }
        },
        "title": {
         "text": "Létalité apparente (CFR)<br>de la COVID-19 en Suisse",
         "x": 0.5,
         "xanchor": "center",
         "y": 0.9,
         "yanchor": "top"
        },
        "xaxis": {
         "autorange": true,
         "range": [
          "2020-02-26",
          "2021-10-27"
         ],
         "type": "date"
        },
        "yaxis": {
         "autorange": true,
         "range": [
          -0.3114689382168765,
          5.9179098261206535
         ],
         "title": {
          "text": "Létalité apparente (%)"
         },
         "type": "linear"
        }
       }
      },
      "image/png": "[encoded data removed]",
      "text/html": [
       "<div>                            <div id=\"c4e8314e-73bb-44cf-9d2f-5dcbd3575aef\" class=\"plotly-graph-div\" style=\"height:525px; width:100%;\"></div>            <script type=\"text/javascript\">                require([\"plotly\"], function(Plotly) {                    window.PLOTLYENV=window.PLOTLYENV || {};                                    if (document.getElementById(\"c4e8314e-73bb-44cf-9d2f-5dcbd3575aef\")) {                    Plotly.newPlot(                        \"c4e8314e-73bb-44cf-9d2f-5dcbd3575aef\",                        [{\"line\": {\"color\": \"blue\", \"width\": 4}, \"name\": \"Tot\", \"type\": \"scatter\", \"x\": [\"2020-02-26\", \"2020-03-04\", \"2020-03-11\", \"2020-03-18\", \"2020-03-25\", \"2020-04-01\", \"2020-04-08\", \"2020-04-15\", \"2020-04-22\", \"2020-04-29\", \"2020-05-06\", \"2020-05-13\", \"2020-05-20\", \"2020-05-27\", \"2020-06-03\", \"2020-06-10\", \"2020-06-17\", \"2020-06-24\", \"2020-07-01\", \"2020-07-08\", \"2020-07-15\", \"2020-07-22\", \"2020-07-29\", \"2020-08-05\", \"2020-08-12\", \"2020-08-19\", \"2020-08-26\", \"2020-09-02\", \"2020-09-09\", \"2020-09-16\", \"2020-09-23\", \"2020-09-30\", \"2020-10-07\", \"2020-10-14\", \"2020-10-21\", \"2020-10-28\", \"2020-11-04\", \"2020-11-11\", \"2020-11-18\", \"2020-11-25\", \"2020-12-02\", \"2020-12-09\", \"2020-12-16\", \"2020-12-23\", \"2020-12-30\", \"2021-01-06\", \"2021-01-13\", \"2021-01-20\", \"2021-01-27\", \"2021-02-03\", \"2021-02-10\", \"2021-02-17\", \"2021-02-24\", \"2021-03-03\", \"2021-03-10\", \"2021-03-17\", \"2021-03-24\", \"2021-03-31\", \"2021-04-07\", \"2021-04-14\", \"2021-04-21\", \"2021-04-28\", \"2021-05-05\", \"2021-05-12\", \"2021-05-19\", \"2021-05-26\", \"2021-06-02\", \"2021-06-09\", \"2021-06-16\", \"2021-06-23\", \"2021-06-30\", \"2021-07-07\", \"2021-07-14\", \"2021-07-21\", \"2021-07-28\", \"2021-08-04\", \"2021-08-11\", \"2021-08-18\", \"2021-08-25\", \"2021-09-01\", \"2021-09-08\", \"2021-09-15\", \"2021-09-22\", \"2021-09-29\", \"2021-10-06\", \"2021-10-13\", \"2021-10-20\", \"2021-10-27\"], \"y\": [0.0, 0.6928406466512702, 1.0389610389610389, 1.3752030319436925, 2.2924710424710426, 3.385854651677436, 4.2304608453285475, 4.81321582759482, 5.285332602589573, 5.466162646773491, 5.572060474021258, 5.588861588861589, 5.606440887903777, 5.5964940756370725, 5.581982331812445, 5.5696936507425185, 5.545588517972704, 5.486047321909347, 5.3759107115175935, 5.281240498631803, 5.180776670138372, 5.071011588394179, 4.920474343843084, 4.7865670828108815, 4.6027182435964455, 4.4024530089245655, 4.1937165331943325, 3.992118756017285, 3.7897439134734765, 3.6011025402050407, 3.4738181610985546, 3.2791559737667524, 2.8659523625992445, 2.2621644693161342, 1.6554315572184235, 1.323531047369065, 1.2722337897329565, 1.318556240045233, 1.3950317581723255, 1.4735888940894308, 1.5309378194159735, 1.5693736561798806, 1.6136093715607092, 1.6606153170785243, 1.6952978328576545, 1.704816157431383, 1.728230918161588, 1.7476104062700437, 1.7554428481816375, 1.7532864739502612, 1.7514598580637049, 1.7448770024188764, 1.7335509956972042, 1.7214041424620135, 1.7080688268250293, 1.6879384841724614, 1.6624408824850638, 1.6404819245332158, 1.6132877564104628, 1.5847638369525154, 1.5576515880654476, 1.5399808239646, 1.522466204645428, 1.5093195403449327, 1.4979839032623052, 1.4896723183441019, 1.48559348237206, 1.4828224798468013, 1.4819170916250295, 1.4813417262690884, 1.4796007204615065, 1.4757175445312356, 1.4680820948336872, 1.4585664247201497, 1.4494270242515317, 1.4346007872287256, 1.4090381571053847, 1.3789055218357555, 1.3524857996740187, 1.327051987551637, 1.3039109933121706, 1.2886460295574156, 1.2792724025693465, 1.2717105357049412, 1.265586711929707, 1.2597235238987816, 1.250629141607309, 1.2388701961592161]}],                        {\"annotations\": [{\"font\": {\"size\": 12}, \"showarrow\": false, \"text\": \"#SwissCovidStat\", \"x\": 1, \"xref\": \"paper\", \"y\": 0.7, \"yref\": \"paper\"}, {\"font\": {\"size\": 14}, \"showarrow\": false, \"text\": \"Selon les statistiques de l'OFSP, le 10 octobre 2021\", \"x\": 1, \"xref\": \"paper\", \"y\": -0.2, \"yref\": \"paper\"}, {\"font\": {\"color\": \"red\", \"size\": 18}, \"showarrow\": false, \"text\": \"L\\u00e9talit\\u00e9 r\\u00e9elle (IFR)\", \"x\": 0.08, \"xref\": \"paper\", \"y\": 0.16, \"yref\": \"paper\"}], \"font\": {\"color\": \"Black\", \"family\": \"Roman\", \"size\": 18}, \"images\": [{\"sizex\": 0.25, \"sizey\": 0.25, \"source\": \"https://www.privateteacher.ch/sites/default/files/2021-08/PrivateTeacher-300px-Square-Logo-WhithBG.png\", \"x\": 0.84, \"xref\": \"paper\", \"y\": 0.98, \"yref\": \"paper\"}], \"shapes\": [{\"line\": {\"color\": \"red\", \"dash\": \"dash\", \"width\": 4}, \"type\": \"line\", \"x0\": 0, \"x1\": 1, \"xref\": \"x domain\", \"y0\": 0.6, \"y1\": 0.6, \"yref\": \"y\"}], \"showlegend\": false, \"template\": {\"data\": {\"bar\": [{\"error_x\": {\"color\": \"#2a3f5f\"}, \"error_y\": {\"color\": \"#2a3f5f\"}, \"marker\": {\"line\": {\"color\": \"#E5ECF6\", \"width\": 0.5}}, \"type\": \"bar\"}], \"barpolar\": [{\"marker\": {\"line\": {\"color\": \"#E5ECF6\", \"width\": 0.5}}, \"type\": \"barpolar\"}], \"carpet\": [{\"aaxis\": {\"endlinecolor\": \"#2a3f5f\", \"gridcolor\": \"white\", \"linecolor\": \"white\", \"minorgridcolor\": \"white\", \"startlinecolor\": \"#2a3f5f\"}, \"baxis\": {\"endlinecolor\": \"#2a3f5f\", \"gridcolor\": \"white\", \"linecolor\": \"white\", \"minorgridcolor\": \"white\", \"startlinecolor\": \"#2a3f5f\"}, \"type\": \"carpet\"}], \"choropleth\": [{\"colorbar\": {\"outlinewidth\": 0, \"ticks\": \"\"}, \"type\": \"choropleth\"}], \"contour\": [{\"colorbar\": {\"outlinewidth\": 0, \"ticks\": \"\"}, \"colorscale\": [[0.0, \"#0d0887\"], [0.1111111111111111, \"#46039f\"], [0.2222222222222222, \"#7201a8\"], [0.3333333333333333, \"#9c179e\"], [0.4444444444444444, \"#bd3786\"], [0.5555555555555556, \"#d8576b\"], [0.6666666666666666, \"#ed7953\"], [0.7777777777777778, \"#fb9f3a\"], [0.8888888888888888, \"#fdca26\"], [1.0, \"#f0f921\"]], \"type\": \"contour\"}], \"contourcarpet\": [{\"colorbar\": {\"outlinewidth\": 0, \"ticks\": \"\"}, \"type\": \"contourcarpet\"}], \"heatmap\": [{\"colorbar\": {\"outlinewidth\": 0, \"ticks\": \"\"}, \"colorscale\": [[0.0, \"#0d0887\"], [0.1111111111111111, \"#46039f\"], [0.2222222222222222, \"#7201a8\"], [0.3333333333333333, \"#9c179e\"], [0.4444444444444444, \"#bd3786\"], [0.5555555555555556, \"#d8576b\"], [0.6666666666666666, \"#ed7953\"], [0.7777777777777778, \"#fb9f3a\"], [0.8888888888888888, \"#fdca26\"], [1.0, \"#f0f921\"]], \"type\": \"heatmap\"}], \"heatmapgl\": [{\"colorbar\": {\"outlinewidth\": 0, \"ticks\": \"\"}, \"colorscale\": [[0.0, \"#0d0887\"], [0.1111111111111111, \"#46039f\"], [0.2222222222222222, \"#7201a8\"], [0.3333333333333333, \"#9c179e\"], [0.4444444444444444, \"#bd3786\"], [0.5555555555555556, \"#d8576b\"], [0.6666666666666666, \"#ed7953\"], [0.7777777777777778, \"#fb9f3a\"], [0.8888888888888888, \"#fdca26\"], [1.0, \"#f0f921\"]], \"type\": \"heatmapgl\"}], \"histogram\": [{\"marker\": {\"colorbar\": {\"outlinewidth\": 0, \"ticks\": \"\"}}, \"type\": \"histogram\"}], \"histogram2d\": [{\"colorbar\": {\"outlinewidth\": 0, \"ticks\": \"\"}, \"colorscale\": [[0.0, \"#0d0887\"], [0.1111111111111111, \"#46039f\"], [0.2222222222222222, \"#7201a8\"], [0.3333333333333333, \"#9c179e\"], [0.4444444444444444, \"#bd3786\"], [0.5555555555555556, \"#d8576b\"], [0.6666666666666666, \"#ed7953\"], [0.7777777777777778, \"#fb9f3a\"], [0.8888888888888888, \"#fdca26\"], [1.0, \"#f0f921\"]], \"type\": \"histogram2d\"}], \"histogram2dcontour\": [{\"colorbar\": {\"outlinewidth\": 0, \"ticks\": \"\"}, \"colorscale\": [[0.0, \"#0d0887\"], [0.1111111111111111, \"#46039f\"], [0.2222222222222222, \"#7201a8\"], [0.3333333333333333, \"#9c179e\"], [0.4444444444444444, \"#bd3786\"], [0.5555555555555556, \"#d8576b\"], [0.6666666666666666, \"#ed7953\"], [0.7777777777777778, \"#fb9f3a\"], [0.8888888888888888, \"#fdca26\"], [1.0, \"#f0f921\"]], \"type\": \"histogram2dcontour\"}], \"mesh3d\": [{\"colorbar\": {\"outlinewidth\": 0, \"ticks\": \"\"}, \"type\": \"mesh3d\"}], \"parcoords\": [{\"line\": {\"colorbar\": {\"outlinewidth\": 0, \"ticks\": \"\"}}, \"type\": \"parcoords\"}], \"pie\": [{\"automargin\": true, \"type\": \"pie\"}], \"scatter\": [{\"marker\": {\"colorbar\": {\"outlinewidth\": 0, \"ticks\": \"\"}}, \"type\": \"scatter\"}], \"scatter3d\": [{\"line\": {\"colorbar\": {\"outlinewidth\": 0, \"ticks\": \"\"}}, \"marker\": {\"colorbar\": {\"outlinewidth\": 0, \"ticks\": \"\"}}, \"type\": \"scatter3d\"}], \"scattercarpet\": [{\"marker\": {\"colorbar\": {\"outlinewidth\": 0, \"ticks\": \"\"}}, \"type\": \"scattercarpet\"}], \"scattergeo\": [{\"marker\": {\"colorbar\": {\"outlinewidth\": 0, \"ticks\": \"\"}}, \"type\": \"scattergeo\"}], \"scattergl\": [{\"marker\": {\"colorbar\": {\"outlinewidth\": 0, \"ticks\": \"\"}}, \"type\": \"scattergl\"}], \"scattermapbox\": [{\"marker\": {\"colorbar\": {\"outlinewidth\": 0, \"ticks\": \"\"}}, \"type\": \"scattermapbox\"}], \"scatterpolar\": [{\"marker\": {\"colorbar\": {\"outlinewidth\": 0, \"ticks\": \"\"}}, \"type\": \"scatterpolar\"}], \"scatterpolargl\": [{\"marker\": {\"colorbar\": {\"outlinewidth\": 0, \"ticks\": \"\"}}, \"type\": \"scatterpolargl\"}], \"scatterternary\": [{\"marker\": {\"colorbar\": {\"outlinewidth\": 0, \"ticks\": \"\"}}, \"type\": \"scatterternary\"}], \"surface\": [{\"colorbar\": {\"outlinewidth\": 0, \"ticks\": \"\"}, \"colorscale\": [[0.0, \"#0d0887\"], [0.1111111111111111, \"#46039f\"], [0.2222222222222222, \"#7201a8\"], [0.3333333333333333, \"#9c179e\"], [0.4444444444444444, \"#bd3786\"], [0.5555555555555556, \"#d8576b\"], [0.6666666666666666, \"#ed7953\"], [0.7777777777777778, \"#fb9f3a\"], [0.8888888888888888, \"#fdca26\"], [1.0, \"#f0f921\"]], \"type\": \"surface\"}], \"table\": [{\"cells\": {\"fill\": {\"color\": \"#EBF0F8\"}, \"line\": {\"color\": \"white\"}}, \"header\": {\"fill\": {\"color\": \"#C8D4E3\"}, \"line\": {\"color\": \"white\"}}, \"type\": \"table\"}]}, \"layout\": {\"annotationdefaults\": {\"arrowcolor\": \"#2a3f5f\", \"arrowhead\": 0, \"arrowwidth\": 1}, \"autotypenumbers\": \"strict\", \"coloraxis\": {\"colorbar\": {\"outlinewidth\": 0, \"ticks\": \"\"}}, \"colorscale\": {\"diverging\": [[0, \"#8e0152\"], [0.1, \"#c51b7d\"], [0.2, \"#de77ae\"], [0.3, \"#f1b6da\"], [0.4, \"#fde0ef\"], [0.5, \"#f7f7f7\"], [0.6, \"#e6f5d0\"], [0.7, \"#b8e186\"], [0.8, \"#7fbc41\"], [0.9, \"#4d9221\"], [1, \"#276419\"]], \"sequential\": [[0.0, \"#0d0887\"], [0.1111111111111111, \"#46039f\"], [0.2222222222222222, \"#7201a8\"], [0.3333333333333333, \"#9c179e\"], [0.4444444444444444, \"#bd3786\"], [0.5555555555555556, \"#d8576b\"], [0.6666666666666666, \"#ed7953\"], [0.7777777777777778, \"#fb9f3a\"], [0.8888888888888888, \"#fdca26\"], [1.0, \"#f0f921\"]], \"sequentialminus\": [[0.0, \"#0d0887\"], [0.1111111111111111, \"#46039f\"], [0.2222222222222222, \"#7201a8\"], [0.3333333333333333, \"#9c179e\"], [0.4444444444444444, \"#bd3786\"], [0.5555555555555556, \"#d8576b\"], [0.6666666666666666, \"#ed7953\"], [0.7777777777777778, \"#fb9f3a\"], [0.8888888888888888, \"#fdca26\"], [1.0, \"#f0f921\"]]}, \"colorway\": [\"#636efa\", \"#EF553B\", \"#00cc96\", \"#ab63fa\", \"#FFA15A\", \"#19d3f3\", \"#FF6692\", \"#B6E880\", \"#FF97FF\", \"#FECB52\"], \"font\": {\"color\": \"#2a3f5f\"}, \"geo\": {\"bgcolor\": \"white\", \"lakecolor\": \"white\", \"landcolor\": \"#E5ECF6\", \"showlakes\": true, \"showland\": true, \"subunitcolor\": \"white\"}, \"hoverlabel\": {\"align\": \"left\"}, \"hovermode\": \"closest\", \"mapbox\": {\"style\": \"light\"}, \"paper_bgcolor\": \"white\", \"plot_bgcolor\": \"#E5ECF6\", \"polar\": {\"angularaxis\": {\"gridcolor\": \"white\", \"linecolor\": \"white\", \"ticks\": \"\"}, \"bgcolor\": \"#E5ECF6\", \"radialaxis\": {\"gridcolor\": \"white\", \"linecolor\": \"white\", \"ticks\": \"\"}}, \"scene\": {\"xaxis\": {\"backgroundcolor\": \"#E5ECF6\", \"gridcolor\": \"white\", \"gridwidth\": 2, \"linecolor\": \"white\", \"showbackground\": true, \"ticks\": \"\", \"zerolinecolor\": \"white\"}, \"yaxis\": {\"backgroundcolor\": \"#E5ECF6\", \"gridcolor\": \"white\", \"gridwidth\": 2, \"linecolor\": \"white\", \"showbackground\": true, \"ticks\": \"\", \"zerolinecolor\": \"white\"}, \"zaxis\": {\"backgroundcolor\": \"#E5ECF6\", \"gridcolor\": \"white\", \"gridwidth\": 2, \"linecolor\": \"white\", \"showbackground\": true, \"ticks\": \"\", \"zerolinecolor\": \"white\"}}, \"shapedefaults\": {\"line\": {\"color\": \"#2a3f5f\"}}, \"ternary\": {\"aaxis\": {\"gridcolor\": \"white\", \"linecolor\": \"white\", \"ticks\": \"\"}, \"baxis\": {\"gridcolor\": \"white\", \"linecolor\": \"white\", \"ticks\": \"\"}, \"bgcolor\": \"#E5ECF6\", \"caxis\": {\"gridcolor\": \"white\", \"linecolor\": \"white\", \"ticks\": \"\"}}, \"title\": {\"x\": 0.05}, \"xaxis\": {\"automargin\": true, \"gridcolor\": \"white\", \"linecolor\": \"white\", \"ticks\": \"\", \"title\": {\"standoff\": 15}, \"zerolinecolor\": \"white\", \"zerolinewidth\": 2}, \"yaxis\": {\"automargin\": true, \"gridcolor\": \"white\", \"linecolor\": \"white\", \"ticks\": \"\", \"title\": {\"standoff\": 15}, \"zerolinecolor\": \"white\", \"zerolinewidth\": 2}}}, \"title\": {\"text\": \"L\\u00e9talit\\u00e9 apparente (CFR)<br>de la COVID-19 en Suisse\", \"x\": 0.5, \"xanchor\": \"center\", \"y\": 0.9, \"yanchor\": \"top\"}, \"yaxis\": {\"title\": {\"text\": \"L\\u00e9talit\\u00e9 apparente (%)\"}}},                        {\"responsive\": true}                    ).then(function(){\n",
       "                            \n",
       "var gd = document.getElementById('c4e8314e-73bb-44cf-9d2f-5dcbd3575aef');\n",
       "var x = new MutationObserver(function (mutations, observer) {{\n",
       "        var display = window.getComputedStyle(gd).display;\n",
       "        if (!display || display === 'none') {{\n",
       "            console.log([gd, 'removed!']);\n",
       "            Plotly.purge(gd);\n",
       "            observer.disconnect();\n",
       "        }}\n",
       "}});\n",
       "\n",
       "// Listen for the removal of the full notebook cells\n",
       "var notebookContainer = gd.closest('#notebook-container');\n",
       "if (notebookContainer) {{\n",
       "    x.observe(notebookContainer, {childList: true});\n",
       "}}\n",
       "\n",
       "// Listen for the clearing of the current output cell\n",
       "var outputEl = gd.closest('.output');\n",
       "if (outputEl) {{\n",
       "    x.observe(outputEl, {childList: true});\n",
       "}}\n",
       "\n",
       "                        })                };                });            </script>        </div>"
      ]
     },
     "metadata": {},
     "output_type": "display_data"
    }
   ],
   "source": [
    "# A quick test to verify that the total CFR obtained\n",
    "# using the two different routes are actually the same:\n",
    "\n",
    "graph_title = \"Létalité apparente (CFR)<br>de la COVID-19 en Suisse\"\n",
    "graph_yaxis = \"Létalité apparente (%)\"\n",
    "picture_name = \"CFR-Letalité-en-Suisse-Logo\"\n",
    "\n",
    "ofsp_copyright = \"Selon les statistiques de l'OFSP, le 10 octobre 2021\"\n",
    "\n",
    "fig = go.Figure()\n",
    "\n",
    "fig.add_trace(go.Scatter(x=case_fatality_rate.index, y=case_fatality_rate['Total'],\n",
    "                    line=dict(width=4,color='blue'),\n",
    "                    name='Tot'))\n",
    "\n",
    "#fig.add_trace(go.Scatter(x=case_fatality_rate_contribution.index, y=case_fatality_rate_contribution['Total'],\n",
    "#                    line=dict(width=3,color='red'),\n",
    "#                    name='Tot'))\n",
    "\n",
    "\n",
    "# Add image\n",
    "fig.add_layout_image(\n",
    "    dict(\n",
    "        source=\"https://www.privateteacher.ch/sites/default/files/2021-08/PrivateTeacher-300px-Square-Logo-WhithBG.png\",\n",
    "        xref=\"paper\", yref=\"paper\",\n",
    "        #x=1.13, y=1.03,\n",
    "        x=0.84, y=0.98,\n",
    "        sizex=0.25, sizey=0.25,\n",
    "        #xanchor=\"right\", yanchor=\"bottom\"\n",
    "    )\n",
    ")\n",
    "\n",
    "fig.add_annotation(\n",
    "    text=\"#SwissCovidStat\",\n",
    "    xref=\"paper\", yref=\"paper\",\n",
    "    x=1, y=0.7, showarrow=False,\n",
    "    font=dict(\n",
    "        size=12,\n",
    "    )\n",
    ")\n",
    "\n",
    "fig.add_annotation(\n",
    "    text=ofsp_copyright,\n",
    "    xref=\"paper\", yref=\"paper\",\n",
    "    x=1, y=-0.2, showarrow=False,\n",
    "    font=dict(\n",
    "        size=14,\n",
    "    )\n",
    ")\n",
    "\n",
    "fig.update_layout(\n",
    "\n",
    "    showlegend=False,\n",
    "    \n",
    "    title={\n",
    "        'text': graph_title,\n",
    "        'y':0.9,\n",
    "        'x':0.5,\n",
    "        'xanchor': 'center',\n",
    "        'yanchor': 'top'},\n",
    "    \n",
    "    #xaxis_title=\"log(n)\",\n",
    "    yaxis_title=graph_yaxis,\n",
    "    #legend_title=\"Asset\",\n",
    "    \n",
    "    font=dict(\n",
    "        #family=\"Courier New\",\n",
    "        family='Roman',\n",
    "        size=18,\n",
    "        color=\"Black\"\n",
    "    )\n",
    ")\n",
    "\n",
    "\n",
    "\n",
    "fig.add_annotation(\n",
    "    text=\"Létalité réelle (IFR)\",\n",
    "    xref=\"paper\", yref=\"paper\",\n",
    "    x=0.08, y=0.16, showarrow=False,\n",
    "    font=dict(\n",
    "        size=18,\n",
    "        color=\"red\"\n",
    "        \n",
    "    )\n",
    ")\n",
    "\n",
    "\n",
    "fig.add_hline(y=0.6, line_width=4, line_dash=\"dash\", line_color=\"red\")\n",
    "\n",
    "fig.show()\n",
    "\n",
    "fig.write_image(\"images/\" + picture_name + \".pdf\")\n",
    "fig.write_image(\"images/\" + picture_name + \".png\")"
   ]
  },
  {
   "cell_type": "code",
   "execution_count": null,
   "metadata": {},
   "outputs": [],
   "source": []
  },
  {
   "cell_type": "code",
   "execution_count": 19,
   "metadata": {},
   "outputs": [
    {
     "data": {
      "application/vnd.plotly.v1+json": {
       "config": {
        "plotlyServerURL": "https://plot.ly"
       },
       "data": [
        {
         "line": {
          "width": 4
         },
         "name": "60-69",
         "type": "scatter",
         "x": [
          "2020-02-26",
          "2020-03-04",
          "2020-03-11",
          "2020-03-18",
          "2020-03-25",
          "2020-04-01",
          "2020-04-08",
          "2020-04-15",
          "2020-04-22",
          "2020-04-29",
          "2020-05-06",
          "2020-05-13",
          "2020-05-20",
          "2020-05-27",
          "2020-06-03",
          "2020-06-10",
          "2020-06-17",
          "2020-06-24",
          "2020-07-01",
          "2020-07-08",
          "2020-07-15",
          "2020-07-22",
          "2020-07-29",
          "2020-08-05",
          "2020-08-12",
          "2020-08-19",
          "2020-08-26",
          "2020-09-02",
          "2020-09-09",
          "2020-09-16",
          "2020-09-23",
          "2020-09-30",
          "2020-10-07",
          "2020-10-14",
          "2020-10-21",
          "2020-10-28",
          "2020-11-04",
          "2020-11-11",
          "2020-11-18",
          "2020-11-25",
          "2020-12-02",
          "2020-12-09",
          "2020-12-16",
          "2020-12-23",
          "2020-12-30",
          "2021-01-06",
          "2021-01-13",
          "2021-01-20",
          "2021-01-27",
          "2021-02-03",
          "2021-02-10",
          "2021-02-17",
          "2021-02-24",
          "2021-03-03",
          "2021-03-10",
          "2021-03-17",
          "2021-03-24",
          "2021-03-31",
          "2021-04-07",
          "2021-04-14",
          "2021-04-21",
          "2021-04-28",
          "2021-05-05",
          "2021-05-12",
          "2021-05-19",
          "2021-05-26",
          "2021-06-02",
          "2021-06-09",
          "2021-06-16",
          "2021-06-23",
          "2021-06-30",
          "2021-07-07",
          "2021-07-14",
          "2021-07-21",
          "2021-07-28",
          "2021-08-04",
          "2021-08-11",
          "2021-08-18",
          "2021-08-25",
          "2021-09-01",
          "2021-09-08",
          "2021-09-15",
          "2021-09-22",
          "2021-09-29",
          "2021-10-06",
          "2021-10-13",
          "2021-10-20",
          "2021-10-27"
         ],
         "y": [
          0,
          1.9607843137254901,
          0.906344410876133,
          0.728744939271255,
          1.5097690941385435,
          2.1538461538461537,
          2.3086269744835968,
          2.852153667054715,
          2.9702970297029703,
          3.140633685380767,
          3.359955935004131,
          3.4454470877768664,
          3.431372549019608,
          3.4539026380201254,
          3.4464043419267303,
          3.457590491626148,
          3.441785426189836,
          3.423375234019791,
          3.4201525914233097,
          3.349652151507344,
          3.2911392405063293,
          3.3059905543127024,
          3.2218992248062017,
          3.168930188229688,
          3.1490552834149756,
          3.099361896080219,
          3.0721282279608193,
          3.0041063323968014,
          2.941176470588235,
          2.81132449019996,
          2.722914669223394,
          2.593398621690243,
          2.3137067177277806,
          1.7963330029732407,
          1.2548425130537308,
          0.9642193308550185,
          0.9026085386767758,
          0.8468052347959968,
          0.8670921198668146,
          0.9266656015337913,
          0.9636702237725029,
          0.9897490279250619,
          0.988505168901074,
          1.0088361763455087,
          1.0345675150269256,
          1.0349177839074561,
          1.0442452104091693,
          1.0492774801104074,
          1.073665374291679,
          1.0859781630336947,
          1.097414892383786,
          1.1013972665495915,
          1.0976368745638685,
          1.0985941718648171,
          1.1003747520023512,
          1.1015845452572173,
          1.0960704895899949,
          1.0955271788430674,
          1.087904757017499,
          1.0789314719108665,
          1.0729507792058188,
          1.067973771343245,
          1.073974186091312,
          1.073043367509393,
          1.0675312351731774,
          1.0690051482280334,
          1.0723145037209156,
          1.0731967161747196,
          1.0814279230636805,
          1.0836760543558148,
          1.0830663436742987,
          1.0823896915267475,
          1.0821768283174802,
          1.0826113331985254,
          1.0811565427809147,
          1.0784419758045827,
          1.0711658698050752,
          1.0607346345011517,
          1.060128954865797,
          1.0570636462024285,
          1.0594493208094602,
          1.0591927469270335,
          1.0611150358270498,
          1.0653836240226824,
          1.0626780626780625,
          1.06051595729618,
          1.0626052779337452,
          1.056049735640638
         ]
        },
        {
         "line": {
          "width": 4
         },
         "name": "70-79",
         "type": "scatter",
         "x": [
          "2020-02-26",
          "2020-03-04",
          "2020-03-11",
          "2020-03-18",
          "2020-03-25",
          "2020-04-01",
          "2020-04-08",
          "2020-04-15",
          "2020-04-22",
          "2020-04-29",
          "2020-05-06",
          "2020-05-13",
          "2020-05-20",
          "2020-05-27",
          "2020-06-03",
          "2020-06-10",
          "2020-06-17",
          "2020-06-24",
          "2020-07-01",
          "2020-07-08",
          "2020-07-15",
          "2020-07-22",
          "2020-07-29",
          "2020-08-05",
          "2020-08-12",
          "2020-08-19",
          "2020-08-26",
          "2020-09-02",
          "2020-09-09",
          "2020-09-16",
          "2020-09-23",
          "2020-09-30",
          "2020-10-07",
          "2020-10-14",
          "2020-10-21",
          "2020-10-28",
          "2020-11-04",
          "2020-11-11",
          "2020-11-18",
          "2020-11-25",
          "2020-12-02",
          "2020-12-09",
          "2020-12-16",
          "2020-12-23",
          "2020-12-30",
          "2021-01-06",
          "2021-01-13",
          "2021-01-20",
          "2021-01-27",
          "2021-02-03",
          "2021-02-10",
          "2021-02-17",
          "2021-02-24",
          "2021-03-03",
          "2021-03-10",
          "2021-03-17",
          "2021-03-24",
          "2021-03-31",
          "2021-04-07",
          "2021-04-14",
          "2021-04-21",
          "2021-04-28",
          "2021-05-05",
          "2021-05-12",
          "2021-05-19",
          "2021-05-26",
          "2021-06-02",
          "2021-06-09",
          "2021-06-16",
          "2021-06-23",
          "2021-06-30",
          "2021-07-07",
          "2021-07-14",
          "2021-07-21",
          "2021-07-28",
          "2021-08-04",
          "2021-08-11",
          "2021-08-18",
          "2021-08-25",
          "2021-09-01",
          "2021-09-08",
          "2021-09-15",
          "2021-09-22",
          "2021-09-29",
          "2021-10-06",
          "2021-10-13",
          "2021-10-20",
          "2021-10-27"
         ],
         "y": [
          0,
          5.555555555555555,
          2.3728813559322033,
          3.441084462982273,
          5.660377358490567,
          7.641921397379912,
          9.288990825688073,
          10.324699014958044,
          11.430599929002485,
          11.97752019669828,
          12.08217270194986,
          12.153739612188366,
          12.176612625043118,
          12.155647382920112,
          12.118091314795743,
          12.139917695473251,
          12.10670314637483,
          12.073669849931786,
          12.02445652173913,
          11.994609164420485,
          11.949265687583445,
          11.836465545664359,
          11.716710182767624,
          11.703847397348852,
          11.59141850784502,
          11.523809523809524,
          11.375744280789721,
          11.203447214527547,
          10.862429125634138,
          10.61614116285797,
          10.362257792754844,
          9.99731255038968,
          9.04063476797307,
          7.217847769028872,
          5.235001910584639,
          4.195070791819612,
          4.0913415794481445,
          4.234244670991659,
          4.50262870230597,
          4.762817441303306,
          4.881178917555427,
          4.901682546117981,
          4.986659652023599,
          5.12567419889308,
          5.220413756224725,
          5.223499361430396,
          5.2641363284275755,
          5.3095735975997815,
          5.378296327162331,
          5.381139604483305,
          5.387918528404804,
          5.380882648519827,
          5.369260910304098,
          5.359701115199865,
          5.361952628217588,
          5.343804920913884,
          5.3199858929491874,
          5.303538374869222,
          5.301504874947011,
          5.266053603709817,
          5.241632800973261,
          5.240756884262345,
          5.221619695002419,
          5.216862277877767,
          5.218642698444759,
          5.221004911220249,
          5.232192693535816,
          5.24147976994751,
          5.243079085410235,
          5.245992122230864,
          5.2463949843260185,
          5.246402967864841,
          5.24167292762334,
          5.235392654449083,
          5.229801886321673,
          5.212115183766848,
          5.194355038375836,
          5.1839094599581745,
          5.16609672691744,
          5.1570591936498715,
          5.125005998368444,
          5.100754169343135,
          5.070854983467171,
          5.06341005166745,
          5.050788091068301,
          5.039029829941455,
          5.005759041695462,
          4.961892844955067
         ]
        },
        {
         "line": {
          "width": 4
         },
         "name": "80+",
         "type": "scatter",
         "x": [
          "2020-02-26",
          "2020-03-04",
          "2020-03-11",
          "2020-03-18",
          "2020-03-25",
          "2020-04-01",
          "2020-04-08",
          "2020-04-15",
          "2020-04-22",
          "2020-04-29",
          "2020-05-06",
          "2020-05-13",
          "2020-05-20",
          "2020-05-27",
          "2020-06-03",
          "2020-06-10",
          "2020-06-17",
          "2020-06-24",
          "2020-07-01",
          "2020-07-08",
          "2020-07-15",
          "2020-07-22",
          "2020-07-29",
          "2020-08-05",
          "2020-08-12",
          "2020-08-19",
          "2020-08-26",
          "2020-09-02",
          "2020-09-09",
          "2020-09-16",
          "2020-09-23",
          "2020-09-30",
          "2020-10-07",
          "2020-10-14",
          "2020-10-21",
          "2020-10-28",
          "2020-11-04",
          "2020-11-11",
          "2020-11-18",
          "2020-11-25",
          "2020-12-02",
          "2020-12-09",
          "2020-12-16",
          "2020-12-23",
          "2020-12-30",
          "2021-01-06",
          "2021-01-13",
          "2021-01-20",
          "2021-01-27",
          "2021-02-03",
          "2021-02-10",
          "2021-02-17",
          "2021-02-24",
          "2021-03-03",
          "2021-03-10",
          "2021-03-17",
          "2021-03-24",
          "2021-03-31",
          "2021-04-07",
          "2021-04-14",
          "2021-04-21",
          "2021-04-28",
          "2021-05-05",
          "2021-05-12",
          "2021-05-19",
          "2021-05-26",
          "2021-06-02",
          "2021-06-09",
          "2021-06-16",
          "2021-06-23",
          "2021-06-30",
          "2021-07-07",
          "2021-07-14",
          "2021-07-21",
          "2021-07-28",
          "2021-08-04",
          "2021-08-11",
          "2021-08-18",
          "2021-08-25",
          "2021-09-01",
          "2021-09-08",
          "2021-09-15",
          "2021-09-22",
          "2021-09-29",
          "2021-10-06",
          "2021-10-13",
          "2021-10-20",
          "2021-10-27"
         ],
         "y": [
          0,
          0,
          7.207207207207207,
          9.512195121951219,
          13.325740318906606,
          18.82923191648024,
          22.970117718080292,
          25.29109125372326,
          27.710533092969353,
          28.413931345527438,
          28.953229398663698,
          29.04972919743968,
          29.156449239823445,
          29.169728141072742,
          29.144254278728603,
          29.161574187240287,
          29.14327556748841,
          29.125030465513042,
          29.04715605250365,
          29.000969932104752,
          28.909266409266408,
          28.822115384615383,
          28.78316997370308,
          28.717826501429933,
          28.663025409641413,
          28.510738730233655,
          28.264424199953282,
          28.017439192290038,
          27.696793002915456,
          27.588495575221238,
          27.35377255925201,
          26.693395231061405,
          25.252125766264584,
          22.063997319484,
          17.806853582554517,
          14.875737529054176,
          14.270869414617248,
          14.424062891648626,
          14.866544062826184,
          15.152183502426114,
          15.335173501577287,
          15.334017045655479,
          15.551397044589274,
          15.835449159714665,
          16.06628447562819,
          16.191487623560167,
          16.40168465385628,
          16.63374464482697,
          16.694322924523558,
          16.73475451236723,
          16.79342492639843,
          16.793558901510544,
          16.756769802577594,
          16.745458472318877,
          16.741012857517713,
          16.71723876351223,
          16.69691042349115,
          16.685401152170858,
          16.658127619934792,
          16.632305589659246,
          16.61250547373758,
          16.605132203545303,
          16.599255044445968,
          16.584587323301413,
          16.584068382286077,
          16.56193997686183,
          16.561707140268215,
          16.556516228328277,
          16.557310285533283,
          16.55432914140957,
          16.554733961965493,
          16.55400058782302,
          16.540928803758582,
          16.51742415698658,
          16.508637192856014,
          16.47563825961884,
          16.442682435156563,
          16.40492549299545,
          16.379463492627465,
          16.342077371489136,
          16.29788820420605,
          16.26055278026221,
          16.242045133685192,
          16.201890833567703,
          16.176850814444542,
          16.132350420024004,
          16.05915522927971,
          15.962649129463344
         ]
        }
       ],
       "layout": {
        "autosize": true,
        "font": {
         "color": "Black",
         "family": "Roman",
         "size": 18
        },
        "showlegend": true,
        "template": {
         "data": {
          "bar": [
           {
            "error_x": {
             "color": "#2a3f5f"
            },
            "error_y": {
             "color": "#2a3f5f"
            },
            "marker": {
             "line": {
              "color": "#E5ECF6",
              "width": 0.5
             }
            },
            "type": "bar"
           }
          ],
          "barpolar": [
           {
            "marker": {
             "line": {
              "color": "#E5ECF6",
              "width": 0.5
             }
            },
            "type": "barpolar"
           }
          ],
          "carpet": [
           {
            "aaxis": {
             "endlinecolor": "#2a3f5f",
             "gridcolor": "white",
             "linecolor": "white",
             "minorgridcolor": "white",
             "startlinecolor": "#2a3f5f"
            },
            "baxis": {
             "endlinecolor": "#2a3f5f",
             "gridcolor": "white",
             "linecolor": "white",
             "minorgridcolor": "white",
             "startlinecolor": "#2a3f5f"
            },
            "type": "carpet"
           }
          ],
          "choropleth": [
           {
            "colorbar": {
             "outlinewidth": 0,
             "ticks": ""
            },
            "type": "choropleth"
           }
          ],
          "contour": [
           {
            "colorbar": {
             "outlinewidth": 0,
             "ticks": ""
            },
            "colorscale": [
             [
              0,
              "#0d0887"
             ],
             [
              0.1111111111111111,
              "#46039f"
             ],
             [
              0.2222222222222222,
              "#7201a8"
             ],
             [
              0.3333333333333333,
              "#9c179e"
             ],
             [
              0.4444444444444444,
              "#bd3786"
             ],
             [
              0.5555555555555556,
              "#d8576b"
             ],
             [
              0.6666666666666666,
              "#ed7953"
             ],
             [
              0.7777777777777778,
              "#fb9f3a"
             ],
             [
              0.8888888888888888,
              "#fdca26"
             ],
             [
              1,
              "#f0f921"
             ]
            ],
            "type": "contour"
           }
          ],
          "contourcarpet": [
           {
            "colorbar": {
             "outlinewidth": 0,
             "ticks": ""
            },
            "type": "contourcarpet"
           }
          ],
          "heatmap": [
           {
            "colorbar": {
             "outlinewidth": 0,
             "ticks": ""
            },
            "colorscale": [
             [
              0,
              "#0d0887"
             ],
             [
              0.1111111111111111,
              "#46039f"
             ],
             [
              0.2222222222222222,
              "#7201a8"
             ],
             [
              0.3333333333333333,
              "#9c179e"
             ],
             [
              0.4444444444444444,
              "#bd3786"
             ],
             [
              0.5555555555555556,
              "#d8576b"
             ],
             [
              0.6666666666666666,
              "#ed7953"
             ],
             [
              0.7777777777777778,
              "#fb9f3a"
             ],
             [
              0.8888888888888888,
              "#fdca26"
             ],
             [
              1,
              "#f0f921"
             ]
            ],
            "type": "heatmap"
           }
          ],
          "heatmapgl": [
           {
            "colorbar": {
             "outlinewidth": 0,
             "ticks": ""
            },
            "colorscale": [
             [
              0,
              "#0d0887"
             ],
             [
              0.1111111111111111,
              "#46039f"
             ],
             [
              0.2222222222222222,
              "#7201a8"
             ],
             [
              0.3333333333333333,
              "#9c179e"
             ],
             [
              0.4444444444444444,
              "#bd3786"
             ],
             [
              0.5555555555555556,
              "#d8576b"
             ],
             [
              0.6666666666666666,
              "#ed7953"
             ],
             [
              0.7777777777777778,
              "#fb9f3a"
             ],
             [
              0.8888888888888888,
              "#fdca26"
             ],
             [
              1,
              "#f0f921"
             ]
            ],
            "type": "heatmapgl"
           }
          ],
          "histogram": [
           {
            "marker": {
             "colorbar": {
              "outlinewidth": 0,
              "ticks": ""
             }
            },
            "type": "histogram"
           }
          ],
          "histogram2d": [
           {
            "colorbar": {
             "outlinewidth": 0,
             "ticks": ""
            },
            "colorscale": [
             [
              0,
              "#0d0887"
             ],
             [
              0.1111111111111111,
              "#46039f"
             ],
             [
              0.2222222222222222,
              "#7201a8"
             ],
             [
              0.3333333333333333,
              "#9c179e"
             ],
             [
              0.4444444444444444,
              "#bd3786"
             ],
             [
              0.5555555555555556,
              "#d8576b"
             ],
             [
              0.6666666666666666,
              "#ed7953"
             ],
             [
              0.7777777777777778,
              "#fb9f3a"
             ],
             [
              0.8888888888888888,
              "#fdca26"
             ],
             [
              1,
              "#f0f921"
             ]
            ],
            "type": "histogram2d"
           }
          ],
          "histogram2dcontour": [
           {
            "colorbar": {
             "outlinewidth": 0,
             "ticks": ""
            },
            "colorscale": [
             [
              0,
              "#0d0887"
             ],
             [
              0.1111111111111111,
              "#46039f"
             ],
             [
              0.2222222222222222,
              "#7201a8"
             ],
             [
              0.3333333333333333,
              "#9c179e"
             ],
             [
              0.4444444444444444,
              "#bd3786"
             ],
             [
              0.5555555555555556,
              "#d8576b"
             ],
             [
              0.6666666666666666,
              "#ed7953"
             ],
             [
              0.7777777777777778,
              "#fb9f3a"
             ],
             [
              0.8888888888888888,
              "#fdca26"
             ],
             [
              1,
              "#f0f921"
             ]
            ],
            "type": "histogram2dcontour"
           }
          ],
          "mesh3d": [
           {
            "colorbar": {
             "outlinewidth": 0,
             "ticks": ""
            },
            "type": "mesh3d"
           }
          ],
          "parcoords": [
           {
            "line": {
             "colorbar": {
              "outlinewidth": 0,
              "ticks": ""
             }
            },
            "type": "parcoords"
           }
          ],
          "pie": [
           {
            "automargin": true,
            "type": "pie"
           }
          ],
          "scatter": [
           {
            "marker": {
             "colorbar": {
              "outlinewidth": 0,
              "ticks": ""
             }
            },
            "type": "scatter"
           }
          ],
          "scatter3d": [
           {
            "line": {
             "colorbar": {
              "outlinewidth": 0,
              "ticks": ""
             }
            },
            "marker": {
             "colorbar": {
              "outlinewidth": 0,
              "ticks": ""
             }
            },
            "type": "scatter3d"
           }
          ],
          "scattercarpet": [
           {
            "marker": {
             "colorbar": {
              "outlinewidth": 0,
              "ticks": ""
             }
            },
            "type": "scattercarpet"
           }
          ],
          "scattergeo": [
           {
            "marker": {
             "colorbar": {
              "outlinewidth": 0,
              "ticks": ""
             }
            },
            "type": "scattergeo"
           }
          ],
          "scattergl": [
           {
            "marker": {
             "colorbar": {
              "outlinewidth": 0,
              "ticks": ""
             }
            },
            "type": "scattergl"
           }
          ],
          "scattermapbox": [
           {
            "marker": {
             "colorbar": {
              "outlinewidth": 0,
              "ticks": ""
             }
            },
            "type": "scattermapbox"
           }
          ],
          "scatterpolar": [
           {
            "marker": {
             "colorbar": {
              "outlinewidth": 0,
              "ticks": ""
             }
            },
            "type": "scatterpolar"
           }
          ],
          "scatterpolargl": [
           {
            "marker": {
             "colorbar": {
              "outlinewidth": 0,
              "ticks": ""
             }
            },
            "type": "scatterpolargl"
           }
          ],
          "scatterternary": [
           {
            "marker": {
             "colorbar": {
              "outlinewidth": 0,
              "ticks": ""
             }
            },
            "type": "scatterternary"
           }
          ],
          "surface": [
           {
            "colorbar": {
             "outlinewidth": 0,
             "ticks": ""
            },
            "colorscale": [
             [
              0,
              "#0d0887"
             ],
             [
              0.1111111111111111,
              "#46039f"
             ],
             [
              0.2222222222222222,
              "#7201a8"
             ],
             [
              0.3333333333333333,
              "#9c179e"
             ],
             [
              0.4444444444444444,
              "#bd3786"
             ],
             [
              0.5555555555555556,
              "#d8576b"
             ],
             [
              0.6666666666666666,
              "#ed7953"
             ],
             [
              0.7777777777777778,
              "#fb9f3a"
             ],
             [
              0.8888888888888888,
              "#fdca26"
             ],
             [
              1,
              "#f0f921"
             ]
            ],
            "type": "surface"
           }
          ],
          "table": [
           {
            "cells": {
             "fill": {
              "color": "#EBF0F8"
             },
             "line": {
              "color": "white"
             }
            },
            "header": {
             "fill": {
              "color": "#C8D4E3"
             },
             "line": {
              "color": "white"
             }
            },
            "type": "table"
           }
          ]
         },
         "layout": {
          "annotationdefaults": {
           "arrowcolor": "#2a3f5f",
           "arrowhead": 0,
           "arrowwidth": 1
          },
          "autotypenumbers": "strict",
          "coloraxis": {
           "colorbar": {
            "outlinewidth": 0,
            "ticks": ""
           }
          },
          "colorscale": {
           "diverging": [
            [
             0,
             "#8e0152"
            ],
            [
             0.1,
             "#c51b7d"
            ],
            [
             0.2,
             "#de77ae"
            ],
            [
             0.3,
             "#f1b6da"
            ],
            [
             0.4,
             "#fde0ef"
            ],
            [
             0.5,
             "#f7f7f7"
            ],
            [
             0.6,
             "#e6f5d0"
            ],
            [
             0.7,
             "#b8e186"
            ],
            [
             0.8,
             "#7fbc41"
            ],
            [
             0.9,
             "#4d9221"
            ],
            [
             1,
             "#276419"
            ]
           ],
           "sequential": [
            [
             0,
             "#0d0887"
            ],
            [
             0.1111111111111111,
             "#46039f"
            ],
            [
             0.2222222222222222,
             "#7201a8"
            ],
            [
             0.3333333333333333,
             "#9c179e"
            ],
            [
             0.4444444444444444,
             "#bd3786"
            ],
            [
             0.5555555555555556,
             "#d8576b"
            ],
            [
             0.6666666666666666,
             "#ed7953"
            ],
            [
             0.7777777777777778,
             "#fb9f3a"
            ],
            [
             0.8888888888888888,
             "#fdca26"
            ],
            [
             1,
             "#f0f921"
            ]
           ],
           "sequentialminus": [
            [
             0,
             "#0d0887"
            ],
            [
             0.1111111111111111,
             "#46039f"
            ],
            [
             0.2222222222222222,
             "#7201a8"
            ],
            [
             0.3333333333333333,
             "#9c179e"
            ],
            [
             0.4444444444444444,
             "#bd3786"
            ],
            [
             0.5555555555555556,
             "#d8576b"
            ],
            [
             0.6666666666666666,
             "#ed7953"
            ],
            [
             0.7777777777777778,
             "#fb9f3a"
            ],
            [
             0.8888888888888888,
             "#fdca26"
            ],
            [
             1,
             "#f0f921"
            ]
           ]
          },
          "colorway": [
           "#636efa",
           "#EF553B",
           "#00cc96",
           "#ab63fa",
           "#FFA15A",
           "#19d3f3",
           "#FF6692",
           "#B6E880",
           "#FF97FF",
           "#FECB52"
          ],
          "font": {
           "color": "#2a3f5f"
          },
          "geo": {
           "bgcolor": "white",
           "lakecolor": "white",
           "landcolor": "#E5ECF6",
           "showlakes": true,
           "showland": true,
           "subunitcolor": "white"
          },
          "hoverlabel": {
           "align": "left"
          },
          "hovermode": "closest",
          "mapbox": {
           "style": "light"
          },
          "paper_bgcolor": "white",
          "plot_bgcolor": "#E5ECF6",
          "polar": {
           "angularaxis": {
            "gridcolor": "white",
            "linecolor": "white",
            "ticks": ""
           },
           "bgcolor": "#E5ECF6",
           "radialaxis": {
            "gridcolor": "white",
            "linecolor": "white",
            "ticks": ""
           }
          },
          "scene": {
           "xaxis": {
            "backgroundcolor": "#E5ECF6",
            "gridcolor": "white",
            "gridwidth": 2,
            "linecolor": "white",
            "showbackground": true,
            "ticks": "",
            "zerolinecolor": "white"
           },
           "yaxis": {
            "backgroundcolor": "#E5ECF6",
            "gridcolor": "white",
            "gridwidth": 2,
            "linecolor": "white",
            "showbackground": true,
            "ticks": "",
            "zerolinecolor": "white"
           },
           "zaxis": {
            "backgroundcolor": "#E5ECF6",
            "gridcolor": "white",
            "gridwidth": 2,
            "linecolor": "white",
            "showbackground": true,
            "ticks": "",
            "zerolinecolor": "white"
           }
          },
          "shapedefaults": {
           "line": {
            "color": "#2a3f5f"
           }
          },
          "ternary": {
           "aaxis": {
            "gridcolor": "white",
            "linecolor": "white",
            "ticks": ""
           },
           "baxis": {
            "gridcolor": "white",
            "linecolor": "white",
            "ticks": ""
           },
           "bgcolor": "#E5ECF6",
           "caxis": {
            "gridcolor": "white",
            "linecolor": "white",
            "ticks": ""
           }
          },
          "title": {
           "x": 0.05
          },
          "xaxis": {
           "automargin": true,
           "gridcolor": "white",
           "linecolor": "white",
           "ticks": "",
           "title": {
            "standoff": 15
           },
           "zerolinecolor": "white",
           "zerolinewidth": 2
          },
          "yaxis": {
           "automargin": true,
           "gridcolor": "white",
           "linecolor": "white",
           "ticks": "",
           "title": {
            "standoff": 15
           },
           "zerolinecolor": "white",
           "zerolinewidth": 2
          }
         }
        },
        "title": {
         "text": "Létalité de la COVID-19<br>en Suisse par tranche d'age",
         "x": 0.5,
         "xanchor": "center",
         "y": 0.9,
         "yanchor": "top"
        },
        "xaxis": {
         "autorange": true,
         "range": [
          "2020-02-26",
          "2021-10-27"
         ],
         "type": "date"
        },
        "yaxis": {
         "autorange": true,
         "range": [
          -1.620540452281819,
          30.79026859335456
         ],
         "title": {
          "text": "Létalité"
         },
         "type": "linear"
        }
       }
      },
      "image/png": "[encoded data removed]",
      "text/html": [
       "<div>                            <div id=\"ce456b85-aabf-49ef-90d4-441f4cfddb2b\" class=\"plotly-graph-div\" style=\"height:525px; width:100%;\"></div>            <script type=\"text/javascript\">                require([\"plotly\"], function(Plotly) {                    window.PLOTLYENV=window.PLOTLYENV || {};                                    if (document.getElementById(\"ce456b85-aabf-49ef-90d4-441f4cfddb2b\")) {                    Plotly.newPlot(                        \"ce456b85-aabf-49ef-90d4-441f4cfddb2b\",                        [{\"line\": {\"width\": 4}, \"name\": \"60-69\", \"type\": \"scatter\", \"x\": [\"2020-02-26\", \"2020-03-04\", \"2020-03-11\", \"2020-03-18\", \"2020-03-25\", \"2020-04-01\", \"2020-04-08\", \"2020-04-15\", \"2020-04-22\", \"2020-04-29\", \"2020-05-06\", \"2020-05-13\", \"2020-05-20\", \"2020-05-27\", \"2020-06-03\", \"2020-06-10\", \"2020-06-17\", \"2020-06-24\", \"2020-07-01\", \"2020-07-08\", \"2020-07-15\", \"2020-07-22\", \"2020-07-29\", \"2020-08-05\", \"2020-08-12\", \"2020-08-19\", \"2020-08-26\", \"2020-09-02\", \"2020-09-09\", \"2020-09-16\", \"2020-09-23\", \"2020-09-30\", \"2020-10-07\", \"2020-10-14\", \"2020-10-21\", \"2020-10-28\", \"2020-11-04\", \"2020-11-11\", \"2020-11-18\", \"2020-11-25\", \"2020-12-02\", \"2020-12-09\", \"2020-12-16\", \"2020-12-23\", \"2020-12-30\", \"2021-01-06\", \"2021-01-13\", \"2021-01-20\", \"2021-01-27\", \"2021-02-03\", \"2021-02-10\", \"2021-02-17\", \"2021-02-24\", \"2021-03-03\", \"2021-03-10\", \"2021-03-17\", \"2021-03-24\", \"2021-03-31\", \"2021-04-07\", \"2021-04-14\", \"2021-04-21\", \"2021-04-28\", \"2021-05-05\", \"2021-05-12\", \"2021-05-19\", \"2021-05-26\", \"2021-06-02\", \"2021-06-09\", \"2021-06-16\", \"2021-06-23\", \"2021-06-30\", \"2021-07-07\", \"2021-07-14\", \"2021-07-21\", \"2021-07-28\", \"2021-08-04\", \"2021-08-11\", \"2021-08-18\", \"2021-08-25\", \"2021-09-01\", \"2021-09-08\", \"2021-09-15\", \"2021-09-22\", \"2021-09-29\", \"2021-10-06\", \"2021-10-13\", \"2021-10-20\", \"2021-10-27\"], \"y\": [0.0, 1.9607843137254901, 0.906344410876133, 0.728744939271255, 1.5097690941385435, 2.1538461538461537, 2.3086269744835968, 2.852153667054715, 2.9702970297029703, 3.140633685380767, 3.359955935004131, 3.4454470877768664, 3.431372549019608, 3.4539026380201254, 3.4464043419267303, 3.457590491626148, 3.441785426189836, 3.423375234019791, 3.4201525914233097, 3.349652151507344, 3.2911392405063293, 3.3059905543127024, 3.2218992248062017, 3.168930188229688, 3.1490552834149756, 3.099361896080219, 3.0721282279608193, 3.0041063323968014, 2.941176470588235, 2.81132449019996, 2.722914669223394, 2.593398621690243, 2.3137067177277806, 1.7963330029732407, 1.2548425130537308, 0.9642193308550185, 0.9026085386767758, 0.8468052347959968, 0.8670921198668146, 0.9266656015337913, 0.9636702237725029, 0.9897490279250619, 0.988505168901074, 1.0088361763455087, 1.0345675150269256, 1.0349177839074561, 1.0442452104091693, 1.0492774801104074, 1.073665374291679, 1.0859781630336947, 1.097414892383786, 1.1013972665495915, 1.0976368745638685, 1.0985941718648171, 1.1003747520023512, 1.1015845452572173, 1.0960704895899949, 1.0955271788430674, 1.087904757017499, 1.0789314719108665, 1.0729507792058188, 1.067973771343245, 1.073974186091312, 1.073043367509393, 1.0675312351731774, 1.0690051482280334, 1.0723145037209156, 1.0731967161747196, 1.0814279230636805, 1.0836760543558148, 1.0830663436742987, 1.0823896915267475, 1.0821768283174802, 1.0826113331985254, 1.0811565427809147, 1.0784419758045827, 1.0711658698050752, 1.0607346345011517, 1.060128954865797, 1.0570636462024285, 1.0594493208094602, 1.0591927469270335, 1.0611150358270498, 1.0653836240226824, 1.0626780626780625, 1.06051595729618, 1.0626052779337452, 1.056049735640638]}, {\"line\": {\"width\": 4}, \"name\": \"70-79\", \"type\": \"scatter\", \"x\": [\"2020-02-26\", \"2020-03-04\", \"2020-03-11\", \"2020-03-18\", \"2020-03-25\", \"2020-04-01\", \"2020-04-08\", \"2020-04-15\", \"2020-04-22\", \"2020-04-29\", \"2020-05-06\", \"2020-05-13\", \"2020-05-20\", \"2020-05-27\", \"2020-06-03\", \"2020-06-10\", \"2020-06-17\", \"2020-06-24\", \"2020-07-01\", \"2020-07-08\", \"2020-07-15\", \"2020-07-22\", \"2020-07-29\", \"2020-08-05\", \"2020-08-12\", \"2020-08-19\", \"2020-08-26\", \"2020-09-02\", \"2020-09-09\", \"2020-09-16\", \"2020-09-23\", \"2020-09-30\", \"2020-10-07\", \"2020-10-14\", \"2020-10-21\", \"2020-10-28\", \"2020-11-04\", \"2020-11-11\", \"2020-11-18\", \"2020-11-25\", \"2020-12-02\", \"2020-12-09\", \"2020-12-16\", \"2020-12-23\", \"2020-12-30\", \"2021-01-06\", \"2021-01-13\", \"2021-01-20\", \"2021-01-27\", \"2021-02-03\", \"2021-02-10\", \"2021-02-17\", \"2021-02-24\", \"2021-03-03\", \"2021-03-10\", \"2021-03-17\", \"2021-03-24\", \"2021-03-31\", \"2021-04-07\", \"2021-04-14\", \"2021-04-21\", \"2021-04-28\", \"2021-05-05\", \"2021-05-12\", \"2021-05-19\", \"2021-05-26\", \"2021-06-02\", \"2021-06-09\", \"2021-06-16\", \"2021-06-23\", \"2021-06-30\", \"2021-07-07\", \"2021-07-14\", \"2021-07-21\", \"2021-07-28\", \"2021-08-04\", \"2021-08-11\", \"2021-08-18\", \"2021-08-25\", \"2021-09-01\", \"2021-09-08\", \"2021-09-15\", \"2021-09-22\", \"2021-09-29\", \"2021-10-06\", \"2021-10-13\", \"2021-10-20\", \"2021-10-27\"], \"y\": [0.0, 5.555555555555555, 2.3728813559322033, 3.441084462982273, 5.660377358490567, 7.641921397379912, 9.288990825688073, 10.324699014958044, 11.430599929002485, 11.97752019669828, 12.08217270194986, 12.153739612188366, 12.176612625043118, 12.155647382920112, 12.118091314795743, 12.139917695473251, 12.10670314637483, 12.073669849931786, 12.02445652173913, 11.994609164420485, 11.949265687583445, 11.836465545664359, 11.716710182767624, 11.703847397348852, 11.59141850784502, 11.523809523809524, 11.375744280789721, 11.203447214527547, 10.862429125634138, 10.61614116285797, 10.362257792754844, 9.99731255038968, 9.04063476797307, 7.217847769028872, 5.235001910584639, 4.195070791819612, 4.0913415794481445, 4.234244670991659, 4.50262870230597, 4.762817441303306, 4.881178917555427, 4.901682546117981, 4.986659652023599, 5.12567419889308, 5.220413756224725, 5.223499361430396, 5.2641363284275755, 5.3095735975997815, 5.378296327162331, 5.381139604483305, 5.387918528404804, 5.380882648519827, 5.369260910304098, 5.359701115199865, 5.361952628217588, 5.343804920913884, 5.3199858929491874, 5.303538374869222, 5.301504874947011, 5.266053603709817, 5.241632800973261, 5.240756884262345, 5.221619695002419, 5.216862277877767, 5.218642698444759, 5.221004911220249, 5.232192693535816, 5.24147976994751, 5.243079085410235, 5.245992122230864, 5.2463949843260185, 5.246402967864841, 5.24167292762334, 5.235392654449083, 5.229801886321673, 5.212115183766848, 5.194355038375836, 5.1839094599581745, 5.16609672691744, 5.1570591936498715, 5.125005998368444, 5.100754169343135, 5.070854983467171, 5.06341005166745, 5.050788091068301, 5.039029829941455, 5.005759041695462, 4.961892844955067]}, {\"line\": {\"width\": 4}, \"name\": \"80+\", \"type\": \"scatter\", \"x\": [\"2020-02-26\", \"2020-03-04\", \"2020-03-11\", \"2020-03-18\", \"2020-03-25\", \"2020-04-01\", \"2020-04-08\", \"2020-04-15\", \"2020-04-22\", \"2020-04-29\", \"2020-05-06\", \"2020-05-13\", \"2020-05-20\", \"2020-05-27\", \"2020-06-03\", \"2020-06-10\", \"2020-06-17\", \"2020-06-24\", \"2020-07-01\", \"2020-07-08\", \"2020-07-15\", \"2020-07-22\", \"2020-07-29\", \"2020-08-05\", \"2020-08-12\", \"2020-08-19\", \"2020-08-26\", \"2020-09-02\", \"2020-09-09\", \"2020-09-16\", \"2020-09-23\", \"2020-09-30\", \"2020-10-07\", \"2020-10-14\", \"2020-10-21\", \"2020-10-28\", \"2020-11-04\", \"2020-11-11\", \"2020-11-18\", \"2020-11-25\", \"2020-12-02\", \"2020-12-09\", \"2020-12-16\", \"2020-12-23\", \"2020-12-30\", \"2021-01-06\", \"2021-01-13\", \"2021-01-20\", \"2021-01-27\", \"2021-02-03\", \"2021-02-10\", \"2021-02-17\", \"2021-02-24\", \"2021-03-03\", \"2021-03-10\", \"2021-03-17\", \"2021-03-24\", \"2021-03-31\", \"2021-04-07\", \"2021-04-14\", \"2021-04-21\", \"2021-04-28\", \"2021-05-05\", \"2021-05-12\", \"2021-05-19\", \"2021-05-26\", \"2021-06-02\", \"2021-06-09\", \"2021-06-16\", \"2021-06-23\", \"2021-06-30\", \"2021-07-07\", \"2021-07-14\", \"2021-07-21\", \"2021-07-28\", \"2021-08-04\", \"2021-08-11\", \"2021-08-18\", \"2021-08-25\", \"2021-09-01\", \"2021-09-08\", \"2021-09-15\", \"2021-09-22\", \"2021-09-29\", \"2021-10-06\", \"2021-10-13\", \"2021-10-20\", \"2021-10-27\"], \"y\": [0.0, 0.0, 7.207207207207207, 9.512195121951219, 13.325740318906606, 18.82923191648024, 22.970117718080292, 25.29109125372326, 27.710533092969353, 28.413931345527438, 28.953229398663698, 29.04972919743968, 29.156449239823445, 29.169728141072742, 29.144254278728603, 29.161574187240287, 29.14327556748841, 29.125030465513042, 29.04715605250365, 29.000969932104752, 28.909266409266408, 28.822115384615383, 28.78316997370308, 28.717826501429933, 28.663025409641413, 28.510738730233655, 28.264424199953282, 28.017439192290038, 27.696793002915456, 27.588495575221238, 27.35377255925201, 26.693395231061405, 25.252125766264584, 22.063997319484, 17.806853582554517, 14.875737529054176, 14.270869414617248, 14.424062891648626, 14.866544062826184, 15.152183502426114, 15.335173501577287, 15.334017045655479, 15.551397044589274, 15.835449159714665, 16.06628447562819, 16.191487623560167, 16.40168465385628, 16.63374464482697, 16.694322924523558, 16.73475451236723, 16.79342492639843, 16.793558901510544, 16.756769802577594, 16.745458472318877, 16.741012857517713, 16.71723876351223, 16.69691042349115, 16.685401152170858, 16.658127619934792, 16.632305589659246, 16.61250547373758, 16.605132203545303, 16.599255044445968, 16.584587323301413, 16.584068382286077, 16.56193997686183, 16.561707140268215, 16.556516228328277, 16.557310285533283, 16.55432914140957, 16.554733961965493, 16.55400058782302, 16.540928803758582, 16.51742415698658, 16.508637192856014, 16.47563825961884, 16.442682435156563, 16.40492549299545, 16.379463492627465, 16.342077371489136, 16.29788820420605, 16.26055278026221, 16.242045133685192, 16.201890833567703, 16.176850814444542, 16.132350420024004, 16.05915522927971, 15.962649129463344]}],                        {\"font\": {\"color\": \"Black\", \"family\": \"Roman\", \"size\": 18}, \"showlegend\": true, \"template\": {\"data\": {\"bar\": [{\"error_x\": {\"color\": \"#2a3f5f\"}, \"error_y\": {\"color\": \"#2a3f5f\"}, \"marker\": {\"line\": {\"color\": \"#E5ECF6\", \"width\": 0.5}}, \"type\": \"bar\"}], \"barpolar\": [{\"marker\": {\"line\": {\"color\": \"#E5ECF6\", \"width\": 0.5}}, \"type\": \"barpolar\"}], \"carpet\": [{\"aaxis\": {\"endlinecolor\": \"#2a3f5f\", \"gridcolor\": \"white\", \"linecolor\": \"white\", \"minorgridcolor\": \"white\", \"startlinecolor\": \"#2a3f5f\"}, \"baxis\": {\"endlinecolor\": \"#2a3f5f\", \"gridcolor\": \"white\", \"linecolor\": \"white\", \"minorgridcolor\": \"white\", \"startlinecolor\": \"#2a3f5f\"}, \"type\": \"carpet\"}], \"choropleth\": [{\"colorbar\": {\"outlinewidth\": 0, \"ticks\": \"\"}, \"type\": \"choropleth\"}], \"contour\": [{\"colorbar\": {\"outlinewidth\": 0, \"ticks\": \"\"}, \"colorscale\": [[0.0, \"#0d0887\"], [0.1111111111111111, \"#46039f\"], [0.2222222222222222, \"#7201a8\"], [0.3333333333333333, \"#9c179e\"], [0.4444444444444444, \"#bd3786\"], [0.5555555555555556, \"#d8576b\"], [0.6666666666666666, \"#ed7953\"], [0.7777777777777778, \"#fb9f3a\"], [0.8888888888888888, \"#fdca26\"], [1.0, \"#f0f921\"]], \"type\": \"contour\"}], \"contourcarpet\": [{\"colorbar\": {\"outlinewidth\": 0, \"ticks\": \"\"}, \"type\": \"contourcarpet\"}], \"heatmap\": [{\"colorbar\": {\"outlinewidth\": 0, \"ticks\": \"\"}, \"colorscale\": [[0.0, \"#0d0887\"], [0.1111111111111111, \"#46039f\"], [0.2222222222222222, \"#7201a8\"], [0.3333333333333333, \"#9c179e\"], [0.4444444444444444, \"#bd3786\"], [0.5555555555555556, \"#d8576b\"], [0.6666666666666666, \"#ed7953\"], [0.7777777777777778, \"#fb9f3a\"], [0.8888888888888888, \"#fdca26\"], [1.0, \"#f0f921\"]], \"type\": \"heatmap\"}], \"heatmapgl\": [{\"colorbar\": {\"outlinewidth\": 0, \"ticks\": \"\"}, \"colorscale\": [[0.0, \"#0d0887\"], [0.1111111111111111, \"#46039f\"], [0.2222222222222222, \"#7201a8\"], [0.3333333333333333, \"#9c179e\"], [0.4444444444444444, \"#bd3786\"], [0.5555555555555556, \"#d8576b\"], [0.6666666666666666, \"#ed7953\"], [0.7777777777777778, \"#fb9f3a\"], [0.8888888888888888, \"#fdca26\"], [1.0, \"#f0f921\"]], \"type\": \"heatmapgl\"}], \"histogram\": [{\"marker\": {\"colorbar\": {\"outlinewidth\": 0, \"ticks\": \"\"}}, \"type\": \"histogram\"}], \"histogram2d\": [{\"colorbar\": {\"outlinewidth\": 0, \"ticks\": \"\"}, \"colorscale\": [[0.0, \"#0d0887\"], [0.1111111111111111, \"#46039f\"], [0.2222222222222222, \"#7201a8\"], [0.3333333333333333, \"#9c179e\"], [0.4444444444444444, \"#bd3786\"], [0.5555555555555556, \"#d8576b\"], [0.6666666666666666, \"#ed7953\"], [0.7777777777777778, \"#fb9f3a\"], [0.8888888888888888, \"#fdca26\"], [1.0, \"#f0f921\"]], \"type\": \"histogram2d\"}], \"histogram2dcontour\": [{\"colorbar\": {\"outlinewidth\": 0, \"ticks\": \"\"}, \"colorscale\": [[0.0, \"#0d0887\"], [0.1111111111111111, \"#46039f\"], [0.2222222222222222, \"#7201a8\"], [0.3333333333333333, \"#9c179e\"], [0.4444444444444444, \"#bd3786\"], [0.5555555555555556, \"#d8576b\"], [0.6666666666666666, \"#ed7953\"], [0.7777777777777778, \"#fb9f3a\"], [0.8888888888888888, \"#fdca26\"], [1.0, \"#f0f921\"]], \"type\": \"histogram2dcontour\"}], \"mesh3d\": [{\"colorbar\": {\"outlinewidth\": 0, \"ticks\": \"\"}, \"type\": \"mesh3d\"}], \"parcoords\": [{\"line\": {\"colorbar\": {\"outlinewidth\": 0, \"ticks\": \"\"}}, \"type\": \"parcoords\"}], \"pie\": [{\"automargin\": true, \"type\": \"pie\"}], \"scatter\": [{\"marker\": {\"colorbar\": {\"outlinewidth\": 0, \"ticks\": \"\"}}, \"type\": \"scatter\"}], \"scatter3d\": [{\"line\": {\"colorbar\": {\"outlinewidth\": 0, \"ticks\": \"\"}}, \"marker\": {\"colorbar\": {\"outlinewidth\": 0, \"ticks\": \"\"}}, \"type\": \"scatter3d\"}], \"scattercarpet\": [{\"marker\": {\"colorbar\": {\"outlinewidth\": 0, \"ticks\": \"\"}}, \"type\": \"scattercarpet\"}], \"scattergeo\": [{\"marker\": {\"colorbar\": {\"outlinewidth\": 0, \"ticks\": \"\"}}, \"type\": \"scattergeo\"}], \"scattergl\": [{\"marker\": {\"colorbar\": {\"outlinewidth\": 0, \"ticks\": \"\"}}, \"type\": \"scattergl\"}], \"scattermapbox\": [{\"marker\": {\"colorbar\": {\"outlinewidth\": 0, \"ticks\": \"\"}}, \"type\": \"scattermapbox\"}], \"scatterpolar\": [{\"marker\": {\"colorbar\": {\"outlinewidth\": 0, \"ticks\": \"\"}}, \"type\": \"scatterpolar\"}], \"scatterpolargl\": [{\"marker\": {\"colorbar\": {\"outlinewidth\": 0, \"ticks\": \"\"}}, \"type\": \"scatterpolargl\"}], \"scatterternary\": [{\"marker\": {\"colorbar\": {\"outlinewidth\": 0, \"ticks\": \"\"}}, \"type\": \"scatterternary\"}], \"surface\": [{\"colorbar\": {\"outlinewidth\": 0, \"ticks\": \"\"}, \"colorscale\": [[0.0, \"#0d0887\"], [0.1111111111111111, \"#46039f\"], [0.2222222222222222, \"#7201a8\"], [0.3333333333333333, \"#9c179e\"], [0.4444444444444444, \"#bd3786\"], [0.5555555555555556, \"#d8576b\"], [0.6666666666666666, \"#ed7953\"], [0.7777777777777778, \"#fb9f3a\"], [0.8888888888888888, \"#fdca26\"], [1.0, \"#f0f921\"]], \"type\": \"surface\"}], \"table\": [{\"cells\": {\"fill\": {\"color\": \"#EBF0F8\"}, \"line\": {\"color\": \"white\"}}, \"header\": {\"fill\": {\"color\": \"#C8D4E3\"}, \"line\": {\"color\": \"white\"}}, \"type\": \"table\"}]}, \"layout\": {\"annotationdefaults\": {\"arrowcolor\": \"#2a3f5f\", \"arrowhead\": 0, \"arrowwidth\": 1}, \"autotypenumbers\": \"strict\", \"coloraxis\": {\"colorbar\": {\"outlinewidth\": 0, \"ticks\": \"\"}}, \"colorscale\": {\"diverging\": [[0, \"#8e0152\"], [0.1, \"#c51b7d\"], [0.2, \"#de77ae\"], [0.3, \"#f1b6da\"], [0.4, \"#fde0ef\"], [0.5, \"#f7f7f7\"], [0.6, \"#e6f5d0\"], [0.7, \"#b8e186\"], [0.8, \"#7fbc41\"], [0.9, \"#4d9221\"], [1, \"#276419\"]], \"sequential\": [[0.0, \"#0d0887\"], [0.1111111111111111, \"#46039f\"], [0.2222222222222222, \"#7201a8\"], [0.3333333333333333, \"#9c179e\"], [0.4444444444444444, \"#bd3786\"], [0.5555555555555556, \"#d8576b\"], [0.6666666666666666, \"#ed7953\"], [0.7777777777777778, \"#fb9f3a\"], [0.8888888888888888, \"#fdca26\"], [1.0, \"#f0f921\"]], \"sequentialminus\": [[0.0, \"#0d0887\"], [0.1111111111111111, \"#46039f\"], [0.2222222222222222, \"#7201a8\"], [0.3333333333333333, \"#9c179e\"], [0.4444444444444444, \"#bd3786\"], [0.5555555555555556, \"#d8576b\"], [0.6666666666666666, \"#ed7953\"], [0.7777777777777778, \"#fb9f3a\"], [0.8888888888888888, \"#fdca26\"], [1.0, \"#f0f921\"]]}, \"colorway\": [\"#636efa\", \"#EF553B\", \"#00cc96\", \"#ab63fa\", \"#FFA15A\", \"#19d3f3\", \"#FF6692\", \"#B6E880\", \"#FF97FF\", \"#FECB52\"], \"font\": {\"color\": \"#2a3f5f\"}, \"geo\": {\"bgcolor\": \"white\", \"lakecolor\": \"white\", \"landcolor\": \"#E5ECF6\", \"showlakes\": true, \"showland\": true, \"subunitcolor\": \"white\"}, \"hoverlabel\": {\"align\": \"left\"}, \"hovermode\": \"closest\", \"mapbox\": {\"style\": \"light\"}, \"paper_bgcolor\": \"white\", \"plot_bgcolor\": \"#E5ECF6\", \"polar\": {\"angularaxis\": {\"gridcolor\": \"white\", \"linecolor\": \"white\", \"ticks\": \"\"}, \"bgcolor\": \"#E5ECF6\", \"radialaxis\": {\"gridcolor\": \"white\", \"linecolor\": \"white\", \"ticks\": \"\"}}, \"scene\": {\"xaxis\": {\"backgroundcolor\": \"#E5ECF6\", \"gridcolor\": \"white\", \"gridwidth\": 2, \"linecolor\": \"white\", \"showbackground\": true, \"ticks\": \"\", \"zerolinecolor\": \"white\"}, \"yaxis\": {\"backgroundcolor\": \"#E5ECF6\", \"gridcolor\": \"white\", \"gridwidth\": 2, \"linecolor\": \"white\", \"showbackground\": true, \"ticks\": \"\", \"zerolinecolor\": \"white\"}, \"zaxis\": {\"backgroundcolor\": \"#E5ECF6\", \"gridcolor\": \"white\", \"gridwidth\": 2, \"linecolor\": \"white\", \"showbackground\": true, \"ticks\": \"\", \"zerolinecolor\": \"white\"}}, \"shapedefaults\": {\"line\": {\"color\": \"#2a3f5f\"}}, \"ternary\": {\"aaxis\": {\"gridcolor\": \"white\", \"linecolor\": \"white\", \"ticks\": \"\"}, \"baxis\": {\"gridcolor\": \"white\", \"linecolor\": \"white\", \"ticks\": \"\"}, \"bgcolor\": \"#E5ECF6\", \"caxis\": {\"gridcolor\": \"white\", \"linecolor\": \"white\", \"ticks\": \"\"}}, \"title\": {\"x\": 0.05}, \"xaxis\": {\"automargin\": true, \"gridcolor\": \"white\", \"linecolor\": \"white\", \"ticks\": \"\", \"title\": {\"standoff\": 15}, \"zerolinecolor\": \"white\", \"zerolinewidth\": 2}, \"yaxis\": {\"automargin\": true, \"gridcolor\": \"white\", \"linecolor\": \"white\", \"ticks\": \"\", \"title\": {\"standoff\": 15}, \"zerolinecolor\": \"white\", \"zerolinewidth\": 2}}}, \"title\": {\"text\": \"L\\u00e9talit\\u00e9 de la COVID-19<br>en Suisse par tranche d'age\", \"x\": 0.5, \"xanchor\": \"center\", \"y\": 0.9, \"yanchor\": \"top\"}, \"yaxis\": {\"title\": {\"text\": \"L\\u00e9talit\\u00e9\"}}},                        {\"responsive\": true}                    ).then(function(){\n",
       "                            \n",
       "var gd = document.getElementById('ce456b85-aabf-49ef-90d4-441f4cfddb2b');\n",
       "var x = new MutationObserver(function (mutations, observer) {{\n",
       "        var display = window.getComputedStyle(gd).display;\n",
       "        if (!display || display === 'none') {{\n",
       "            console.log([gd, 'removed!']);\n",
       "            Plotly.purge(gd);\n",
       "            observer.disconnect();\n",
       "        }}\n",
       "}});\n",
       "\n",
       "// Listen for the removal of the full notebook cells\n",
       "var notebookContainer = gd.closest('#notebook-container');\n",
       "if (notebookContainer) {{\n",
       "    x.observe(notebookContainer, {childList: true});\n",
       "}}\n",
       "\n",
       "// Listen for the clearing of the current output cell\n",
       "var outputEl = gd.closest('.output');\n",
       "if (outputEl) {{\n",
       "    x.observe(outputEl, {childList: true});\n",
       "}}\n",
       "\n",
       "                        })                };                });            </script>        </div>"
      ]
     },
     "metadata": {},
     "output_type": "display_data"
    }
   ],
   "source": [
    "# We can now compare the time evolution\n",
    "# of COVID case fatality rate of each age group\n",
    "\n",
    "graph_title = \"Létalité de la COVID-19<br>en Suisse par tranche d'age\"\n",
    "graph_yaxis = \"Létalité\"\n",
    "picture_name = \"CFR-par-tranche-age-en-Suisse\"\n",
    "\n",
    "fig = go.Figure()\n",
    "\n",
    "fig.add_trace(go.Scatter(x=case_fatality_rate.index, y=case_fatality_rate['60'],\n",
    "                    line=dict(width=4),\n",
    "                    name='60-69'))\n",
    "\n",
    "fig.add_trace(go.Scatter(x=case_fatality_rate.index, y=case_fatality_rate['70'],\n",
    "                    line=dict(width=4),\n",
    "                    name='70-79'))\n",
    "\n",
    "fig.add_trace(go.Scatter(x=case_fatality_rate.index, y=case_fatality_rate['80'],\n",
    "                    line=dict(width=4),\n",
    "                    name='80+'))\n",
    "\n",
    "\n",
    "fig.update_layout(\n",
    "\n",
    "    showlegend=True,\n",
    "    \n",
    "    title={\n",
    "        'text': graph_title,\n",
    "        'y':0.9,\n",
    "        'x':0.5,\n",
    "        'xanchor': 'center',\n",
    "        'yanchor': 'top'},\n",
    "    \n",
    "    #xaxis_title=\"log(n)\",\n",
    "    yaxis_title=graph_yaxis,\n",
    "    #legend_title=\"Asset\",\n",
    "    \n",
    "    font=dict(\n",
    "        #family=\"Courier New\",\n",
    "        family='Roman',\n",
    "        size=18,\n",
    "        color=\"Black\"\n",
    "    )\n",
    ")\n",
    "\n",
    "fig.show()\n",
    "\n",
    "fig.write_image(\"images/\" + picture_name + \".pdf\")\n",
    "fig.write_image(\"images/\" + picture_name + \".png\")"
   ]
  },
  {
   "cell_type": "code",
   "execution_count": null,
   "metadata": {},
   "outputs": [],
   "source": []
  },
  {
   "cell_type": "code",
   "execution_count": 20,
   "metadata": {},
   "outputs": [
    {
     "data": {
      "application/vnd.plotly.v1+json": {
       "config": {
        "plotlyServerURL": "https://plot.ly"
       },
       "data": [
        {
         "line": {
          "width": 6
         },
         "name": "Total",
         "type": "scatter",
         "x": [
          "2020-02-26",
          "2020-03-04",
          "2020-03-11",
          "2020-03-18",
          "2020-03-25",
          "2020-04-01",
          "2020-04-08",
          "2020-04-15",
          "2020-04-22",
          "2020-04-29",
          "2020-05-06",
          "2020-05-13",
          "2020-05-20",
          "2020-05-27",
          "2020-06-03",
          "2020-06-10",
          "2020-06-17",
          "2020-06-24",
          "2020-07-01",
          "2020-07-08",
          "2020-07-15",
          "2020-07-22",
          "2020-07-29",
          "2020-08-05",
          "2020-08-12",
          "2020-08-19",
          "2020-08-26",
          "2020-09-02",
          "2020-09-09",
          "2020-09-16",
          "2020-09-23",
          "2020-09-30",
          "2020-10-07",
          "2020-10-14",
          "2020-10-21",
          "2020-10-28",
          "2020-11-04",
          "2020-11-11",
          "2020-11-18",
          "2020-11-25",
          "2020-12-02",
          "2020-12-09",
          "2020-12-16",
          "2020-12-23",
          "2020-12-30",
          "2021-01-06",
          "2021-01-13",
          "2021-01-20",
          "2021-01-27",
          "2021-02-03",
          "2021-02-10",
          "2021-02-17",
          "2021-02-24",
          "2021-03-03",
          "2021-03-10",
          "2021-03-17",
          "2021-03-24",
          "2021-03-31",
          "2021-04-07",
          "2021-04-14",
          "2021-04-21",
          "2021-04-28",
          "2021-05-05",
          "2021-05-12",
          "2021-05-19",
          "2021-05-26",
          "2021-06-02",
          "2021-06-09",
          "2021-06-16",
          "2021-06-23",
          "2021-06-30",
          "2021-07-07",
          "2021-07-14",
          "2021-07-21",
          "2021-07-28",
          "2021-08-04",
          "2021-08-11",
          "2021-08-18",
          "2021-08-25",
          "2021-09-01",
          "2021-09-08",
          "2021-09-15",
          "2021-09-22",
          "2021-09-29",
          "2021-10-06",
          "2021-10-13",
          "2021-10-20",
          "2021-10-27"
         ],
         "y": [
          0,
          0.6928406466512702,
          1.0389610389610389,
          1.3752030319436925,
          2.2924710424710426,
          3.3858546516774366,
          4.2304608453285475,
          4.813215827594819,
          5.285332602589573,
          5.466162646773492,
          5.572060474021258,
          5.5888615888615885,
          5.606440887903778,
          5.596494075637072,
          5.581982331812446,
          5.5696936507425185,
          5.545588517972705,
          5.486047321909347,
          5.375910711517594,
          5.281240498631803,
          5.180776670138372,
          5.07101158839418,
          4.920474343843084,
          4.7865670828108815,
          4.6027182435964455,
          4.402453008924565,
          4.1937165331943325,
          3.992118756017285,
          3.789743913473476,
          3.6011025402050407,
          3.4738181610985546,
          3.2791559737667524,
          2.865952362599244,
          2.2621644693161342,
          1.6554315572184235,
          1.323531047369065,
          1.2722337897329563,
          1.318556240045233,
          1.3950317581723253,
          1.473588894089431,
          1.5309378194159735,
          1.5693736561798808,
          1.6136093715607094,
          1.6606153170785243,
          1.6952978328576545,
          1.7048161574313827,
          1.728230918161588,
          1.7476104062700435,
          1.7554428481816375,
          1.753286473950261,
          1.7514598580637049,
          1.7448770024188764,
          1.7335509956972044,
          1.7214041424620132,
          1.708068826825029,
          1.6879384841724616,
          1.662440882485064,
          1.640481924533216,
          1.613287756410463,
          1.5847638369525154,
          1.5576515880654478,
          1.5399808239646,
          1.5224662046454278,
          1.5093195403449327,
          1.4979839032623052,
          1.4896723183441019,
          1.4855934823720598,
          1.4828224798468013,
          1.4819170916250293,
          1.4813417262690884,
          1.4796007204615063,
          1.4757175445312356,
          1.4680820948336872,
          1.45856642472015,
          1.4494270242515317,
          1.4346007872287256,
          1.4090381571053847,
          1.3789055218357555,
          1.352485799674019,
          1.327051987551637,
          1.3039109933121706,
          1.2886460295574156,
          1.2792724025693465,
          1.2717105357049412,
          1.2655867119297068,
          1.2597235238987816,
          1.250629141607309,
          1.2388701961592163
         ]
        },
        {
         "line": {
          "width": 4
         },
         "name": "60-69",
         "type": "scatter",
         "x": [
          "2020-02-26",
          "2020-03-04",
          "2020-03-11",
          "2020-03-18",
          "2020-03-25",
          "2020-04-01",
          "2020-04-08",
          "2020-04-15",
          "2020-04-22",
          "2020-04-29",
          "2020-05-06",
          "2020-05-13",
          "2020-05-20",
          "2020-05-27",
          "2020-06-03",
          "2020-06-10",
          "2020-06-17",
          "2020-06-24",
          "2020-07-01",
          "2020-07-08",
          "2020-07-15",
          "2020-07-22",
          "2020-07-29",
          "2020-08-05",
          "2020-08-12",
          "2020-08-19",
          "2020-08-26",
          "2020-09-02",
          "2020-09-09",
          "2020-09-16",
          "2020-09-23",
          "2020-09-30",
          "2020-10-07",
          "2020-10-14",
          "2020-10-21",
          "2020-10-28",
          "2020-11-04",
          "2020-11-11",
          "2020-11-18",
          "2020-11-25",
          "2020-12-02",
          "2020-12-09",
          "2020-12-16",
          "2020-12-23",
          "2020-12-30",
          "2021-01-06",
          "2021-01-13",
          "2021-01-20",
          "2021-01-27",
          "2021-02-03",
          "2021-02-10",
          "2021-02-17",
          "2021-02-24",
          "2021-03-03",
          "2021-03-10",
          "2021-03-17",
          "2021-03-24",
          "2021-03-31",
          "2021-04-07",
          "2021-04-14",
          "2021-04-21",
          "2021-04-28",
          "2021-05-05",
          "2021-05-12",
          "2021-05-19",
          "2021-05-26",
          "2021-06-02",
          "2021-06-09",
          "2021-06-16",
          "2021-06-23",
          "2021-06-30",
          "2021-07-07",
          "2021-07-14",
          "2021-07-21",
          "2021-07-28",
          "2021-08-04",
          "2021-08-11",
          "2021-08-18",
          "2021-08-25",
          "2021-09-01",
          "2021-09-08",
          "2021-09-15",
          "2021-09-22",
          "2021-09-29",
          "2021-10-06",
          "2021-10-13",
          "2021-10-20",
          "2021-10-27"
         ],
         "y": [
          0,
          0.23094688221709006,
          0.11131725417439704,
          0.09745533297238765,
          0.2051158301158301,
          0.27883508896167125,
          0.290176014661525,
          0.34966282513290753,
          0.3596629444406385,
          0.3780149198809086,
          0.4027200105631478,
          0.4127764127764128,
          0.4107043906255093,
          0.4122707352702483,
          0.41096333689285824,
          0.41233128241471506,
          0.41007240340872686,
          0.4054353679009217,
          0.4030382886374206,
          0.3952569169960474,
          0.3868471953578337,
          0.3862798059887892,
          0.37374248299893215,
          0.3625361173199586,
          0.352848928384736,
          0.3390337538016653,
          0.32696772970667676,
          0.3112195777265298,
          0.29880268501567664,
          0.2815840092010549,
          0.26970048052268714,
          0.25484744796122044,
          0.22354120095583133,
          0.17191501470169782,
          0.12014578764030447,
          0.09231351002658184,
          0.08657596391513825,
          0.08130111345570383,
          0.08313657676831498,
          0.08871512960056778,
          0.09204827169487409,
          0.09475070672573836,
          0.09506048313946316,
          0.09762945620164255,
          0.10048942473602535,
          0.10025893319523564,
          0.1008218385725877,
          0.10109819626738419,
          0.10327259374856565,
          0.10413891192662615,
          0.1050284205426715,
          0.10533521975263566,
          0.10486713226231918,
          0.10487695622186986,
          0.10483996590513296,
          0.1046690293107656,
          0.10380791665755332,
          0.10351915681339023,
          0.10245142417144827,
          0.10128249151778823,
          0.10040423484119346,
          0.09950971051445613,
          0.09962146820303122,
          0.09920824753193724,
          0.09829290703820899,
          0.09814549817151613,
          0.09822462230978868,
          0.09818592544176499,
          0.09887078404102494,
          0.09905150678352742,
          0.09890646274523236,
          0.09861834699712113,
          0.09823071479122435,
          0.09782810365281144,
          0.09725169771884073,
          0.0963671782778992,
          0.09465811358161114,
          0.09254399475407755,
          0.09131087283895448,
          0.08990764605894311,
          0.08912996579036582,
          0.0884829005884295,
          0.08833328532611305,
          0.08848336655423888,
          0.08805518439652689,
          0.08774601686972822,
          0.08778989801527567,
          0.08709286090320219
         ]
        },
        {
         "line": {
          "width": 4
         },
         "name": "70-79",
         "type": "scatter",
         "x": [
          "2020-02-26",
          "2020-03-04",
          "2020-03-11",
          "2020-03-18",
          "2020-03-25",
          "2020-04-01",
          "2020-04-08",
          "2020-04-15",
          "2020-04-22",
          "2020-04-29",
          "2020-05-06",
          "2020-05-13",
          "2020-05-20",
          "2020-05-27",
          "2020-06-03",
          "2020-06-10",
          "2020-06-17",
          "2020-06-24",
          "2020-07-01",
          "2020-07-08",
          "2020-07-15",
          "2020-07-22",
          "2020-07-29",
          "2020-08-05",
          "2020-08-12",
          "2020-08-19",
          "2020-08-26",
          "2020-09-02",
          "2020-09-09",
          "2020-09-16",
          "2020-09-23",
          "2020-09-30",
          "2020-10-07",
          "2020-10-14",
          "2020-10-21",
          "2020-10-28",
          "2020-11-04",
          "2020-11-11",
          "2020-11-18",
          "2020-11-25",
          "2020-12-02",
          "2020-12-09",
          "2020-12-16",
          "2020-12-23",
          "2020-12-30",
          "2021-01-06",
          "2021-01-13",
          "2021-01-20",
          "2021-01-27",
          "2021-02-03",
          "2021-02-10",
          "2021-02-17",
          "2021-02-24",
          "2021-03-03",
          "2021-03-10",
          "2021-03-17",
          "2021-03-24",
          "2021-03-31",
          "2021-04-07",
          "2021-04-14",
          "2021-04-21",
          "2021-04-28",
          "2021-05-05",
          "2021-05-12",
          "2021-05-19",
          "2021-05-26",
          "2021-06-02",
          "2021-06-09",
          "2021-06-16",
          "2021-06-23",
          "2021-06-30",
          "2021-07-07",
          "2021-07-14",
          "2021-07-21",
          "2021-07-28",
          "2021-08-04",
          "2021-08-11",
          "2021-08-18",
          "2021-08-25",
          "2021-09-01",
          "2021-09-08",
          "2021-09-15",
          "2021-09-22",
          "2021-09-29",
          "2021-10-06",
          "2021-10-13",
          "2021-10-20",
          "2021-10-27"
         ],
         "y": [
          0,
          0.4618937644341801,
          0.2597402597402597,
          0.3573362208987547,
          0.5972490347490348,
          0.7745419137824201,
          0.9277996258256652,
          1.0097406072715596,
          1.1029663629512914,
          1.1407352891981402,
          1.1454413415197728,
          1.1498771498771498,
          1.1506242054825777,
          1.1459178704755721,
          1.1422839206549527,
          1.1403537029281965,
          1.1341064906772602,
          1.1212821893509866,
          1.0975042629049758,
          1.0823958650045606,
          1.0653176610623418,
          1.0426650402253783,
          1.0088236947114033,
          0.9867524396227444,
          0.9461578672242552,
          0.9049209752206213,
          0.8600672890110411,
          0.8149922754853011,
          0.7659449108852556,
          0.7277558547661068,
          0.7008413895272644,
          0.6629597946963216,
          0.5796654590302937,
          0.45646400455278385,
          0.331408850470907,
          0.26693063140216433,
          0.2605936513845661,
          0.2701414269823614,
          0.28765255561836983,
          0.3040787545619461,
          0.311439397789712,
          0.3147077044819167,
          0.32098030820882345,
          0.33244315999341517,
          0.33901615861268164,
          0.3388917659243915,
          0.34122769668292136,
          0.34259969025233483,
          0.34558069796973734,
          0.344127503555734,
          0.34337636786574116,
          0.34211126831271965,
          0.3407280878145113,
          0.33916141096835206,
          0.33797324568082093,
          0.33445965687807866,
          0.3299308339796792,
          0.3258875366561664,
          0.32233537699224524,
          0.31660623320490566,
          0.31183830606352264,
          0.3091152709597999,
          0.30541648921437525,
          0.3029236994372802,
          0.3009947242192267,
          0.2996400849919778,
          0.29927589901415846,
          0.2991445640831585,
          0.2989016901037642,
          0.2988696979572235,
          0.29857477642572305,
          0.2978473308296891,
          0.2962491153573956,
          0.2943276566795793,
          0.29245273804690125,
          0.2893776585536916,
          0.2841097600775682,
          0.2785574242097735,
          0.273157703047226,
          0.2687141567343727,
          0.26332172465867415,
          0.2602295457635019,
          0.2576787548847347,
          0.25641147619749866,
          0.25531282017384405,
          0.25410028116213684,
          0.2520045553331493,
          0.24960516377120098
         ]
        },
        {
         "line": {
          "color": "lightgreen",
          "width": 4
         },
         "name": "80+",
         "type": "scatter",
         "x": [
          "2020-02-26",
          "2020-03-04",
          "2020-03-11",
          "2020-03-18",
          "2020-03-25",
          "2020-04-01",
          "2020-04-08",
          "2020-04-15",
          "2020-04-22",
          "2020-04-29",
          "2020-05-06",
          "2020-05-13",
          "2020-05-20",
          "2020-05-27",
          "2020-06-03",
          "2020-06-10",
          "2020-06-17",
          "2020-06-24",
          "2020-07-01",
          "2020-07-08",
          "2020-07-15",
          "2020-07-22",
          "2020-07-29",
          "2020-08-05",
          "2020-08-12",
          "2020-08-19",
          "2020-08-26",
          "2020-09-02",
          "2020-09-09",
          "2020-09-16",
          "2020-09-23",
          "2020-09-30",
          "2020-10-07",
          "2020-10-14",
          "2020-10-21",
          "2020-10-28",
          "2020-11-04",
          "2020-11-11",
          "2020-11-18",
          "2020-11-25",
          "2020-12-02",
          "2020-12-09",
          "2020-12-16",
          "2020-12-23",
          "2020-12-30",
          "2021-01-06",
          "2021-01-13",
          "2021-01-20",
          "2021-01-27",
          "2021-02-03",
          "2021-02-10",
          "2021-02-17",
          "2021-02-24",
          "2021-03-03",
          "2021-03-10",
          "2021-03-17",
          "2021-03-24",
          "2021-03-31",
          "2021-04-07",
          "2021-04-14",
          "2021-04-21",
          "2021-04-28",
          "2021-05-05",
          "2021-05-12",
          "2021-05-19",
          "2021-05-26",
          "2021-06-02",
          "2021-06-09",
          "2021-06-16",
          "2021-06-23",
          "2021-06-30",
          "2021-07-07",
          "2021-07-14",
          "2021-07-21",
          "2021-07-28",
          "2021-08-04",
          "2021-08-11",
          "2021-08-18",
          "2021-08-25",
          "2021-09-01",
          "2021-09-08",
          "2021-09-15",
          "2021-09-22",
          "2021-09-29",
          "2021-10-06",
          "2021-10-13",
          "2021-10-20",
          "2021-10-27"
         ],
         "y": [
          0,
          0,
          0.5936920222634509,
          0.844612885760693,
          1.4116795366795367,
          2.2351066654864122,
          2.9055782520713223,
          3.3325008027973024,
          3.685688840172638,
          3.7935302579199144,
          3.8621509209744507,
          3.8656838656838657,
          3.8756152416962744,
          3.866255478006817,
          3.857230689577064,
          3.8430564056308993,
          3.8252066380470304,
          3.785119255012512,
          3.704851960936289,
          3.6363636363636362,
          3.5649456926052667,
          3.4823269727861517,
          3.383353003990333,
          3.2846317396281957,
          3.1547307893361216,
          3.0114174602383206,
          2.8668909633701367,
          2.733806506504265,
          2.598741661932117,
          2.4727835174205315,
          2.3893183415319745,
          2.254419731964642,
          1.9687042318661834,
          1.5614625818078347,
          1.152270674751645,
          0.9253595221941697,
          0.8917324283259238,
          0.9357019057720095,
          0.9946460044561204,
          1.0508154144067252,
          1.0980850571207526,
          1.1286787482494547,
          1.1658817524992684,
          1.1978471218744855,
          1.2225851609892673,
          1.231693423096841,
          1.2514360082585538,
          1.267931730363093,
          1.2698704120194,
          1.2682430733550742,
          1.2657034130538491,
          1.2603715028980877,
          1.2510180400296944,
          1.2403922042647593,
          1.2283253434427763,
          1.2120295479466652,
          1.1920244562702842,
          1.1744808794512827,
          1.1522563476389458,
          1.1309615693588173,
          1.1099903753609242,
          1.095060507348293,
          1.0816896039264856,
          1.0706836684678214,
          1.0622914916203476,
          1.0553170576586735,
          1.051420517872423,
          1.0485110140241036,
          1.0470859589178299,
          1.0461154085838922,
          1.0448689953215673,
          1.0419675854443304,
          1.0365180467091295,
          1.0293034526573823,
          1.0227474092956996,
          1.0121314956379355,
          0.9941133216060192,
          0.9722407677449805,
          0.9526294173410584,
          0.9332489319526478,
          0.9162018060221284,
          0.9047346241236672,
          0.89749498324548,
          0.8906611990923319,
          0.8862175930953404,
          0.8819119025304591,
          0.8752316516793732,
          0.866694133534757
         ]
        }
       ],
       "layout": {
        "autosize": true,
        "font": {
         "color": "Black",
         "family": "Roman",
         "size": 18
        },
        "showlegend": true,
        "template": {
         "data": {
          "bar": [
           {
            "error_x": {
             "color": "#2a3f5f"
            },
            "error_y": {
             "color": "#2a3f5f"
            },
            "marker": {
             "line": {
              "color": "#E5ECF6",
              "width": 0.5
             }
            },
            "type": "bar"
           }
          ],
          "barpolar": [
           {
            "marker": {
             "line": {
              "color": "#E5ECF6",
              "width": 0.5
             }
            },
            "type": "barpolar"
           }
          ],
          "carpet": [
           {
            "aaxis": {
             "endlinecolor": "#2a3f5f",
             "gridcolor": "white",
             "linecolor": "white",
             "minorgridcolor": "white",
             "startlinecolor": "#2a3f5f"
            },
            "baxis": {
             "endlinecolor": "#2a3f5f",
             "gridcolor": "white",
             "linecolor": "white",
             "minorgridcolor": "white",
             "startlinecolor": "#2a3f5f"
            },
            "type": "carpet"
           }
          ],
          "choropleth": [
           {
            "colorbar": {
             "outlinewidth": 0,
             "ticks": ""
            },
            "type": "choropleth"
           }
          ],
          "contour": [
           {
            "colorbar": {
             "outlinewidth": 0,
             "ticks": ""
            },
            "colorscale": [
             [
              0,
              "#0d0887"
             ],
             [
              0.1111111111111111,
              "#46039f"
             ],
             [
              0.2222222222222222,
              "#7201a8"
             ],
             [
              0.3333333333333333,
              "#9c179e"
             ],
             [
              0.4444444444444444,
              "#bd3786"
             ],
             [
              0.5555555555555556,
              "#d8576b"
             ],
             [
              0.6666666666666666,
              "#ed7953"
             ],
             [
              0.7777777777777778,
              "#fb9f3a"
             ],
             [
              0.8888888888888888,
              "#fdca26"
             ],
             [
              1,
              "#f0f921"
             ]
            ],
            "type": "contour"
           }
          ],
          "contourcarpet": [
           {
            "colorbar": {
             "outlinewidth": 0,
             "ticks": ""
            },
            "type": "contourcarpet"
           }
          ],
          "heatmap": [
           {
            "colorbar": {
             "outlinewidth": 0,
             "ticks": ""
            },
            "colorscale": [
             [
              0,
              "#0d0887"
             ],
             [
              0.1111111111111111,
              "#46039f"
             ],
             [
              0.2222222222222222,
              "#7201a8"
             ],
             [
              0.3333333333333333,
              "#9c179e"
             ],
             [
              0.4444444444444444,
              "#bd3786"
             ],
             [
              0.5555555555555556,
              "#d8576b"
             ],
             [
              0.6666666666666666,
              "#ed7953"
             ],
             [
              0.7777777777777778,
              "#fb9f3a"
             ],
             [
              0.8888888888888888,
              "#fdca26"
             ],
             [
              1,
              "#f0f921"
             ]
            ],
            "type": "heatmap"
           }
          ],
          "heatmapgl": [
           {
            "colorbar": {
             "outlinewidth": 0,
             "ticks": ""
            },
            "colorscale": [
             [
              0,
              "#0d0887"
             ],
             [
              0.1111111111111111,
              "#46039f"
             ],
             [
              0.2222222222222222,
              "#7201a8"
             ],
             [
              0.3333333333333333,
              "#9c179e"
             ],
             [
              0.4444444444444444,
              "#bd3786"
             ],
             [
              0.5555555555555556,
              "#d8576b"
             ],
             [
              0.6666666666666666,
              "#ed7953"
             ],
             [
              0.7777777777777778,
              "#fb9f3a"
             ],
             [
              0.8888888888888888,
              "#fdca26"
             ],
             [
              1,
              "#f0f921"
             ]
            ],
            "type": "heatmapgl"
           }
          ],
          "histogram": [
           {
            "marker": {
             "colorbar": {
              "outlinewidth": 0,
              "ticks": ""
             }
            },
            "type": "histogram"
           }
          ],
          "histogram2d": [
           {
            "colorbar": {
             "outlinewidth": 0,
             "ticks": ""
            },
            "colorscale": [
             [
              0,
              "#0d0887"
             ],
             [
              0.1111111111111111,
              "#46039f"
             ],
             [
              0.2222222222222222,
              "#7201a8"
             ],
             [
              0.3333333333333333,
              "#9c179e"
             ],
             [
              0.4444444444444444,
              "#bd3786"
             ],
             [
              0.5555555555555556,
              "#d8576b"
             ],
             [
              0.6666666666666666,
              "#ed7953"
             ],
             [
              0.7777777777777778,
              "#fb9f3a"
             ],
             [
              0.8888888888888888,
              "#fdca26"
             ],
             [
              1,
              "#f0f921"
             ]
            ],
            "type": "histogram2d"
           }
          ],
          "histogram2dcontour": [
           {
            "colorbar": {
             "outlinewidth": 0,
             "ticks": ""
            },
            "colorscale": [
             [
              0,
              "#0d0887"
             ],
             [
              0.1111111111111111,
              "#46039f"
             ],
             [
              0.2222222222222222,
              "#7201a8"
             ],
             [
              0.3333333333333333,
              "#9c179e"
             ],
             [
              0.4444444444444444,
              "#bd3786"
             ],
             [
              0.5555555555555556,
              "#d8576b"
             ],
             [
              0.6666666666666666,
              "#ed7953"
             ],
             [
              0.7777777777777778,
              "#fb9f3a"
             ],
             [
              0.8888888888888888,
              "#fdca26"
             ],
             [
              1,
              "#f0f921"
             ]
            ],
            "type": "histogram2dcontour"
           }
          ],
          "mesh3d": [
           {
            "colorbar": {
             "outlinewidth": 0,
             "ticks": ""
            },
            "type": "mesh3d"
           }
          ],
          "parcoords": [
           {
            "line": {
             "colorbar": {
              "outlinewidth": 0,
              "ticks": ""
             }
            },
            "type": "parcoords"
           }
          ],
          "pie": [
           {
            "automargin": true,
            "type": "pie"
           }
          ],
          "scatter": [
           {
            "marker": {
             "colorbar": {
              "outlinewidth": 0,
              "ticks": ""
             }
            },
            "type": "scatter"
           }
          ],
          "scatter3d": [
           {
            "line": {
             "colorbar": {
              "outlinewidth": 0,
              "ticks": ""
             }
            },
            "marker": {
             "colorbar": {
              "outlinewidth": 0,
              "ticks": ""
             }
            },
            "type": "scatter3d"
           }
          ],
          "scattercarpet": [
           {
            "marker": {
             "colorbar": {
              "outlinewidth": 0,
              "ticks": ""
             }
            },
            "type": "scattercarpet"
           }
          ],
          "scattergeo": [
           {
            "marker": {
             "colorbar": {
              "outlinewidth": 0,
              "ticks": ""
             }
            },
            "type": "scattergeo"
           }
          ],
          "scattergl": [
           {
            "marker": {
             "colorbar": {
              "outlinewidth": 0,
              "ticks": ""
             }
            },
            "type": "scattergl"
           }
          ],
          "scattermapbox": [
           {
            "marker": {
             "colorbar": {
              "outlinewidth": 0,
              "ticks": ""
             }
            },
            "type": "scattermapbox"
           }
          ],
          "scatterpolar": [
           {
            "marker": {
             "colorbar": {
              "outlinewidth": 0,
              "ticks": ""
             }
            },
            "type": "scatterpolar"
           }
          ],
          "scatterpolargl": [
           {
            "marker": {
             "colorbar": {
              "outlinewidth": 0,
              "ticks": ""
             }
            },
            "type": "scatterpolargl"
           }
          ],
          "scatterternary": [
           {
            "marker": {
             "colorbar": {
              "outlinewidth": 0,
              "ticks": ""
             }
            },
            "type": "scatterternary"
           }
          ],
          "surface": [
           {
            "colorbar": {
             "outlinewidth": 0,
             "ticks": ""
            },
            "colorscale": [
             [
              0,
              "#0d0887"
             ],
             [
              0.1111111111111111,
              "#46039f"
             ],
             [
              0.2222222222222222,
              "#7201a8"
             ],
             [
              0.3333333333333333,
              "#9c179e"
             ],
             [
              0.4444444444444444,
              "#bd3786"
             ],
             [
              0.5555555555555556,
              "#d8576b"
             ],
             [
              0.6666666666666666,
              "#ed7953"
             ],
             [
              0.7777777777777778,
              "#fb9f3a"
             ],
             [
              0.8888888888888888,
              "#fdca26"
             ],
             [
              1,
              "#f0f921"
             ]
            ],
            "type": "surface"
           }
          ],
          "table": [
           {
            "cells": {
             "fill": {
              "color": "#EBF0F8"
             },
             "line": {
              "color": "white"
             }
            },
            "header": {
             "fill": {
              "color": "#C8D4E3"
             },
             "line": {
              "color": "white"
             }
            },
            "type": "table"
           }
          ]
         },
         "layout": {
          "annotationdefaults": {
           "arrowcolor": "#2a3f5f",
           "arrowhead": 0,
           "arrowwidth": 1
          },
          "autotypenumbers": "strict",
          "coloraxis": {
           "colorbar": {
            "outlinewidth": 0,
            "ticks": ""
           }
          },
          "colorscale": {
           "diverging": [
            [
             0,
             "#8e0152"
            ],
            [
             0.1,
             "#c51b7d"
            ],
            [
             0.2,
             "#de77ae"
            ],
            [
             0.3,
             "#f1b6da"
            ],
            [
             0.4,
             "#fde0ef"
            ],
            [
             0.5,
             "#f7f7f7"
            ],
            [
             0.6,
             "#e6f5d0"
            ],
            [
             0.7,
             "#b8e186"
            ],
            [
             0.8,
             "#7fbc41"
            ],
            [
             0.9,
             "#4d9221"
            ],
            [
             1,
             "#276419"
            ]
           ],
           "sequential": [
            [
             0,
             "#0d0887"
            ],
            [
             0.1111111111111111,
             "#46039f"
            ],
            [
             0.2222222222222222,
             "#7201a8"
            ],
            [
             0.3333333333333333,
             "#9c179e"
            ],
            [
             0.4444444444444444,
             "#bd3786"
            ],
            [
             0.5555555555555556,
             "#d8576b"
            ],
            [
             0.6666666666666666,
             "#ed7953"
            ],
            [
             0.7777777777777778,
             "#fb9f3a"
            ],
            [
             0.8888888888888888,
             "#fdca26"
            ],
            [
             1,
             "#f0f921"
            ]
           ],
           "sequentialminus": [
            [
             0,
             "#0d0887"
            ],
            [
             0.1111111111111111,
             "#46039f"
            ],
            [
             0.2222222222222222,
             "#7201a8"
            ],
            [
             0.3333333333333333,
             "#9c179e"
            ],
            [
             0.4444444444444444,
             "#bd3786"
            ],
            [
             0.5555555555555556,
             "#d8576b"
            ],
            [
             0.6666666666666666,
             "#ed7953"
            ],
            [
             0.7777777777777778,
             "#fb9f3a"
            ],
            [
             0.8888888888888888,
             "#fdca26"
            ],
            [
             1,
             "#f0f921"
            ]
           ]
          },
          "colorway": [
           "#636efa",
           "#EF553B",
           "#00cc96",
           "#ab63fa",
           "#FFA15A",
           "#19d3f3",
           "#FF6692",
           "#B6E880",
           "#FF97FF",
           "#FECB52"
          ],
          "font": {
           "color": "#2a3f5f"
          },
          "geo": {
           "bgcolor": "white",
           "lakecolor": "white",
           "landcolor": "#E5ECF6",
           "showlakes": true,
           "showland": true,
           "subunitcolor": "white"
          },
          "hoverlabel": {
           "align": "left"
          },
          "hovermode": "closest",
          "mapbox": {
           "style": "light"
          },
          "paper_bgcolor": "white",
          "plot_bgcolor": "#E5ECF6",
          "polar": {
           "angularaxis": {
            "gridcolor": "white",
            "linecolor": "white",
            "ticks": ""
           },
           "bgcolor": "#E5ECF6",
           "radialaxis": {
            "gridcolor": "white",
            "linecolor": "white",
            "ticks": ""
           }
          },
          "scene": {
           "xaxis": {
            "backgroundcolor": "#E5ECF6",
            "gridcolor": "white",
            "gridwidth": 2,
            "linecolor": "white",
            "showbackground": true,
            "ticks": "",
            "zerolinecolor": "white"
           },
           "yaxis": {
            "backgroundcolor": "#E5ECF6",
            "gridcolor": "white",
            "gridwidth": 2,
            "linecolor": "white",
            "showbackground": true,
            "ticks": "",
            "zerolinecolor": "white"
           },
           "zaxis": {
            "backgroundcolor": "#E5ECF6",
            "gridcolor": "white",
            "gridwidth": 2,
            "linecolor": "white",
            "showbackground": true,
            "ticks": "",
            "zerolinecolor": "white"
           }
          },
          "shapedefaults": {
           "line": {
            "color": "#2a3f5f"
           }
          },
          "ternary": {
           "aaxis": {
            "gridcolor": "white",
            "linecolor": "white",
            "ticks": ""
           },
           "baxis": {
            "gridcolor": "white",
            "linecolor": "white",
            "ticks": ""
           },
           "bgcolor": "#E5ECF6",
           "caxis": {
            "gridcolor": "white",
            "linecolor": "white",
            "ticks": ""
           }
          },
          "title": {
           "x": 0.05
          },
          "xaxis": {
           "automargin": true,
           "gridcolor": "white",
           "linecolor": "white",
           "ticks": "",
           "title": {
            "standoff": 15
           },
           "zerolinecolor": "white",
           "zerolinewidth": 2
          },
          "yaxis": {
           "automargin": true,
           "gridcolor": "white",
           "linecolor": "white",
           "ticks": "",
           "title": {
            "standoff": 15
           },
           "zerolinecolor": "white",
           "zerolinewidth": 2
          }
         }
        },
        "title": {
         "text": "Contribution à la létalité totale<br>de différentes classes d'âge en Suisse",
         "x": 0.5,
         "xanchor": "center",
         "y": 0.9,
         "yanchor": "top"
        },
        "xaxis": {
         "autorange": true,
         "range": [
          "2020-02-26",
          "2021-10-27"
         ],
         "type": "date"
        },
        "yaxis": {
         "autorange": true,
         "range": [
          -0.3114689382168766,
          5.917909826120654
         ],
         "title": {
          "text": "Contribution<br>à la létalité total"
         },
         "type": "linear"
        }
       }
      },
      "image/png": "[encoded data removed]",
      "text/html": [
       "<div>                            <div id=\"5fec0f0d-50d3-44ef-bd22-1fda3a6dc1e8\" class=\"plotly-graph-div\" style=\"height:525px; width:100%;\"></div>            <script type=\"text/javascript\">                require([\"plotly\"], function(Plotly) {                    window.PLOTLYENV=window.PLOTLYENV || {};                                    if (document.getElementById(\"5fec0f0d-50d3-44ef-bd22-1fda3a6dc1e8\")) {                    Plotly.newPlot(                        \"5fec0f0d-50d3-44ef-bd22-1fda3a6dc1e8\",                        [{\"line\": {\"width\": 6}, \"name\": \"Total\", \"type\": \"scatter\", \"x\": [\"2020-02-26\", \"2020-03-04\", \"2020-03-11\", \"2020-03-18\", \"2020-03-25\", \"2020-04-01\", \"2020-04-08\", \"2020-04-15\", \"2020-04-22\", \"2020-04-29\", \"2020-05-06\", \"2020-05-13\", \"2020-05-20\", \"2020-05-27\", \"2020-06-03\", \"2020-06-10\", \"2020-06-17\", \"2020-06-24\", \"2020-07-01\", \"2020-07-08\", \"2020-07-15\", \"2020-07-22\", \"2020-07-29\", \"2020-08-05\", \"2020-08-12\", \"2020-08-19\", \"2020-08-26\", \"2020-09-02\", \"2020-09-09\", \"2020-09-16\", \"2020-09-23\", \"2020-09-30\", \"2020-10-07\", \"2020-10-14\", \"2020-10-21\", \"2020-10-28\", \"2020-11-04\", \"2020-11-11\", \"2020-11-18\", \"2020-11-25\", \"2020-12-02\", \"2020-12-09\", \"2020-12-16\", \"2020-12-23\", \"2020-12-30\", \"2021-01-06\", \"2021-01-13\", \"2021-01-20\", \"2021-01-27\", \"2021-02-03\", \"2021-02-10\", \"2021-02-17\", \"2021-02-24\", \"2021-03-03\", \"2021-03-10\", \"2021-03-17\", \"2021-03-24\", \"2021-03-31\", \"2021-04-07\", \"2021-04-14\", \"2021-04-21\", \"2021-04-28\", \"2021-05-05\", \"2021-05-12\", \"2021-05-19\", \"2021-05-26\", \"2021-06-02\", \"2021-06-09\", \"2021-06-16\", \"2021-06-23\", \"2021-06-30\", \"2021-07-07\", \"2021-07-14\", \"2021-07-21\", \"2021-07-28\", \"2021-08-04\", \"2021-08-11\", \"2021-08-18\", \"2021-08-25\", \"2021-09-01\", \"2021-09-08\", \"2021-09-15\", \"2021-09-22\", \"2021-09-29\", \"2021-10-06\", \"2021-10-13\", \"2021-10-20\", \"2021-10-27\"], \"y\": [0.0, 0.6928406466512702, 1.0389610389610389, 1.3752030319436925, 2.2924710424710426, 3.3858546516774366, 4.2304608453285475, 4.813215827594819, 5.285332602589573, 5.466162646773492, 5.572060474021258, 5.5888615888615885, 5.606440887903778, 5.596494075637072, 5.581982331812446, 5.5696936507425185, 5.545588517972705, 5.486047321909347, 5.375910711517594, 5.281240498631803, 5.180776670138372, 5.07101158839418, 4.920474343843084, 4.7865670828108815, 4.6027182435964455, 4.402453008924565, 4.1937165331943325, 3.992118756017285, 3.789743913473476, 3.6011025402050407, 3.4738181610985546, 3.2791559737667524, 2.865952362599244, 2.2621644693161342, 1.6554315572184235, 1.323531047369065, 1.2722337897329563, 1.318556240045233, 1.3950317581723253, 1.473588894089431, 1.5309378194159735, 1.5693736561798808, 1.6136093715607094, 1.6606153170785243, 1.6952978328576545, 1.7048161574313827, 1.728230918161588, 1.7476104062700435, 1.7554428481816375, 1.753286473950261, 1.7514598580637049, 1.7448770024188764, 1.7335509956972044, 1.7214041424620132, 1.708068826825029, 1.6879384841724616, 1.662440882485064, 1.640481924533216, 1.613287756410463, 1.5847638369525154, 1.5576515880654478, 1.5399808239646, 1.5224662046454278, 1.5093195403449327, 1.4979839032623052, 1.4896723183441019, 1.4855934823720598, 1.4828224798468013, 1.4819170916250293, 1.4813417262690884, 1.4796007204615063, 1.4757175445312356, 1.4680820948336872, 1.45856642472015, 1.4494270242515317, 1.4346007872287256, 1.4090381571053847, 1.3789055218357555, 1.352485799674019, 1.327051987551637, 1.3039109933121706, 1.2886460295574156, 1.2792724025693465, 1.2717105357049412, 1.2655867119297068, 1.2597235238987816, 1.250629141607309, 1.2388701961592163]}, {\"line\": {\"width\": 4}, \"name\": \"60-69\", \"type\": \"scatter\", \"x\": [\"2020-02-26\", \"2020-03-04\", \"2020-03-11\", \"2020-03-18\", \"2020-03-25\", \"2020-04-01\", \"2020-04-08\", \"2020-04-15\", \"2020-04-22\", \"2020-04-29\", \"2020-05-06\", \"2020-05-13\", \"2020-05-20\", \"2020-05-27\", \"2020-06-03\", \"2020-06-10\", \"2020-06-17\", \"2020-06-24\", \"2020-07-01\", \"2020-07-08\", \"2020-07-15\", \"2020-07-22\", \"2020-07-29\", \"2020-08-05\", \"2020-08-12\", \"2020-08-19\", \"2020-08-26\", \"2020-09-02\", \"2020-09-09\", \"2020-09-16\", \"2020-09-23\", \"2020-09-30\", \"2020-10-07\", \"2020-10-14\", \"2020-10-21\", \"2020-10-28\", \"2020-11-04\", \"2020-11-11\", \"2020-11-18\", \"2020-11-25\", \"2020-12-02\", \"2020-12-09\", \"2020-12-16\", \"2020-12-23\", \"2020-12-30\", \"2021-01-06\", \"2021-01-13\", \"2021-01-20\", \"2021-01-27\", \"2021-02-03\", \"2021-02-10\", \"2021-02-17\", \"2021-02-24\", \"2021-03-03\", \"2021-03-10\", \"2021-03-17\", \"2021-03-24\", \"2021-03-31\", \"2021-04-07\", \"2021-04-14\", \"2021-04-21\", \"2021-04-28\", \"2021-05-05\", \"2021-05-12\", \"2021-05-19\", \"2021-05-26\", \"2021-06-02\", \"2021-06-09\", \"2021-06-16\", \"2021-06-23\", \"2021-06-30\", \"2021-07-07\", \"2021-07-14\", \"2021-07-21\", \"2021-07-28\", \"2021-08-04\", \"2021-08-11\", \"2021-08-18\", \"2021-08-25\", \"2021-09-01\", \"2021-09-08\", \"2021-09-15\", \"2021-09-22\", \"2021-09-29\", \"2021-10-06\", \"2021-10-13\", \"2021-10-20\", \"2021-10-27\"], \"y\": [0.0, 0.23094688221709006, 0.11131725417439704, 0.09745533297238765, 0.2051158301158301, 0.27883508896167125, 0.290176014661525, 0.34966282513290753, 0.3596629444406385, 0.3780149198809086, 0.4027200105631478, 0.4127764127764128, 0.4107043906255093, 0.4122707352702483, 0.41096333689285824, 0.41233128241471506, 0.41007240340872686, 0.4054353679009217, 0.4030382886374206, 0.3952569169960474, 0.3868471953578337, 0.3862798059887892, 0.37374248299893215, 0.3625361173199586, 0.352848928384736, 0.3390337538016653, 0.32696772970667676, 0.3112195777265298, 0.29880268501567664, 0.2815840092010549, 0.26970048052268714, 0.25484744796122044, 0.22354120095583133, 0.17191501470169782, 0.12014578764030447, 0.09231351002658184, 0.08657596391513825, 0.08130111345570383, 0.08313657676831498, 0.08871512960056778, 0.09204827169487409, 0.09475070672573836, 0.09506048313946316, 0.09762945620164255, 0.10048942473602535, 0.10025893319523564, 0.1008218385725877, 0.10109819626738419, 0.10327259374856565, 0.10413891192662615, 0.1050284205426715, 0.10533521975263566, 0.10486713226231918, 0.10487695622186986, 0.10483996590513296, 0.1046690293107656, 0.10380791665755332, 0.10351915681339023, 0.10245142417144827, 0.10128249151778823, 0.10040423484119346, 0.09950971051445613, 0.09962146820303122, 0.09920824753193724, 0.09829290703820899, 0.09814549817151613, 0.09822462230978868, 0.09818592544176499, 0.09887078404102494, 0.09905150678352742, 0.09890646274523236, 0.09861834699712113, 0.09823071479122435, 0.09782810365281144, 0.09725169771884073, 0.0963671782778992, 0.09465811358161114, 0.09254399475407755, 0.09131087283895448, 0.08990764605894311, 0.08912996579036582, 0.0884829005884295, 0.08833328532611305, 0.08848336655423888, 0.08805518439652689, 0.08774601686972822, 0.08778989801527567, 0.08709286090320219]}, {\"line\": {\"width\": 4}, \"name\": \"70-79\", \"type\": \"scatter\", \"x\": [\"2020-02-26\", \"2020-03-04\", \"2020-03-11\", \"2020-03-18\", \"2020-03-25\", \"2020-04-01\", \"2020-04-08\", \"2020-04-15\", \"2020-04-22\", \"2020-04-29\", \"2020-05-06\", \"2020-05-13\", \"2020-05-20\", \"2020-05-27\", \"2020-06-03\", \"2020-06-10\", \"2020-06-17\", \"2020-06-24\", \"2020-07-01\", \"2020-07-08\", \"2020-07-15\", \"2020-07-22\", \"2020-07-29\", \"2020-08-05\", \"2020-08-12\", \"2020-08-19\", \"2020-08-26\", \"2020-09-02\", \"2020-09-09\", \"2020-09-16\", \"2020-09-23\", \"2020-09-30\", \"2020-10-07\", \"2020-10-14\", \"2020-10-21\", \"2020-10-28\", \"2020-11-04\", \"2020-11-11\", \"2020-11-18\", \"2020-11-25\", \"2020-12-02\", \"2020-12-09\", \"2020-12-16\", \"2020-12-23\", \"2020-12-30\", \"2021-01-06\", \"2021-01-13\", \"2021-01-20\", \"2021-01-27\", \"2021-02-03\", \"2021-02-10\", \"2021-02-17\", \"2021-02-24\", \"2021-03-03\", \"2021-03-10\", \"2021-03-17\", \"2021-03-24\", \"2021-03-31\", \"2021-04-07\", \"2021-04-14\", \"2021-04-21\", \"2021-04-28\", \"2021-05-05\", \"2021-05-12\", \"2021-05-19\", \"2021-05-26\", \"2021-06-02\", \"2021-06-09\", \"2021-06-16\", \"2021-06-23\", \"2021-06-30\", \"2021-07-07\", \"2021-07-14\", \"2021-07-21\", \"2021-07-28\", \"2021-08-04\", \"2021-08-11\", \"2021-08-18\", \"2021-08-25\", \"2021-09-01\", \"2021-09-08\", \"2021-09-15\", \"2021-09-22\", \"2021-09-29\", \"2021-10-06\", \"2021-10-13\", \"2021-10-20\", \"2021-10-27\"], \"y\": [0.0, 0.4618937644341801, 0.2597402597402597, 0.3573362208987547, 0.5972490347490348, 0.7745419137824201, 0.9277996258256652, 1.0097406072715596, 1.1029663629512914, 1.1407352891981402, 1.1454413415197728, 1.1498771498771498, 1.1506242054825777, 1.1459178704755721, 1.1422839206549527, 1.1403537029281965, 1.1341064906772602, 1.1212821893509866, 1.0975042629049758, 1.0823958650045606, 1.0653176610623418, 1.0426650402253783, 1.0088236947114033, 0.9867524396227444, 0.9461578672242552, 0.9049209752206213, 0.8600672890110411, 0.8149922754853011, 0.7659449108852556, 0.7277558547661068, 0.7008413895272644, 0.6629597946963216, 0.5796654590302937, 0.45646400455278385, 0.331408850470907, 0.26693063140216433, 0.2605936513845661, 0.2701414269823614, 0.28765255561836983, 0.3040787545619461, 0.311439397789712, 0.3147077044819167, 0.32098030820882345, 0.33244315999341517, 0.33901615861268164, 0.3388917659243915, 0.34122769668292136, 0.34259969025233483, 0.34558069796973734, 0.344127503555734, 0.34337636786574116, 0.34211126831271965, 0.3407280878145113, 0.33916141096835206, 0.33797324568082093, 0.33445965687807866, 0.3299308339796792, 0.3258875366561664, 0.32233537699224524, 0.31660623320490566, 0.31183830606352264, 0.3091152709597999, 0.30541648921437525, 0.3029236994372802, 0.3009947242192267, 0.2996400849919778, 0.29927589901415846, 0.2991445640831585, 0.2989016901037642, 0.2988696979572235, 0.29857477642572305, 0.2978473308296891, 0.2962491153573956, 0.2943276566795793, 0.29245273804690125, 0.2893776585536916, 0.2841097600775682, 0.2785574242097735, 0.273157703047226, 0.2687141567343727, 0.26332172465867415, 0.2602295457635019, 0.2576787548847347, 0.25641147619749866, 0.25531282017384405, 0.25410028116213684, 0.2520045553331493, 0.24960516377120098]}, {\"line\": {\"color\": \"lightgreen\", \"width\": 4}, \"name\": \"80+\", \"type\": \"scatter\", \"x\": [\"2020-02-26\", \"2020-03-04\", \"2020-03-11\", \"2020-03-18\", \"2020-03-25\", \"2020-04-01\", \"2020-04-08\", \"2020-04-15\", \"2020-04-22\", \"2020-04-29\", \"2020-05-06\", \"2020-05-13\", \"2020-05-20\", \"2020-05-27\", \"2020-06-03\", \"2020-06-10\", \"2020-06-17\", \"2020-06-24\", \"2020-07-01\", \"2020-07-08\", \"2020-07-15\", \"2020-07-22\", \"2020-07-29\", \"2020-08-05\", \"2020-08-12\", \"2020-08-19\", \"2020-08-26\", \"2020-09-02\", \"2020-09-09\", \"2020-09-16\", \"2020-09-23\", \"2020-09-30\", \"2020-10-07\", \"2020-10-14\", \"2020-10-21\", \"2020-10-28\", \"2020-11-04\", \"2020-11-11\", \"2020-11-18\", \"2020-11-25\", \"2020-12-02\", \"2020-12-09\", \"2020-12-16\", \"2020-12-23\", \"2020-12-30\", \"2021-01-06\", \"2021-01-13\", \"2021-01-20\", \"2021-01-27\", \"2021-02-03\", \"2021-02-10\", \"2021-02-17\", \"2021-02-24\", \"2021-03-03\", \"2021-03-10\", \"2021-03-17\", \"2021-03-24\", \"2021-03-31\", \"2021-04-07\", \"2021-04-14\", \"2021-04-21\", \"2021-04-28\", \"2021-05-05\", \"2021-05-12\", \"2021-05-19\", \"2021-05-26\", \"2021-06-02\", \"2021-06-09\", \"2021-06-16\", \"2021-06-23\", \"2021-06-30\", \"2021-07-07\", \"2021-07-14\", \"2021-07-21\", \"2021-07-28\", \"2021-08-04\", \"2021-08-11\", \"2021-08-18\", \"2021-08-25\", \"2021-09-01\", \"2021-09-08\", \"2021-09-15\", \"2021-09-22\", \"2021-09-29\", \"2021-10-06\", \"2021-10-13\", \"2021-10-20\", \"2021-10-27\"], \"y\": [0.0, 0.0, 0.5936920222634509, 0.844612885760693, 1.4116795366795367, 2.2351066654864122, 2.9055782520713223, 3.3325008027973024, 3.685688840172638, 3.7935302579199144, 3.8621509209744507, 3.8656838656838657, 3.8756152416962744, 3.866255478006817, 3.857230689577064, 3.8430564056308993, 3.8252066380470304, 3.785119255012512, 3.704851960936289, 3.6363636363636362, 3.5649456926052667, 3.4823269727861517, 3.383353003990333, 3.2846317396281957, 3.1547307893361216, 3.0114174602383206, 2.8668909633701367, 2.733806506504265, 2.598741661932117, 2.4727835174205315, 2.3893183415319745, 2.254419731964642, 1.9687042318661834, 1.5614625818078347, 1.152270674751645, 0.9253595221941697, 0.8917324283259238, 0.9357019057720095, 0.9946460044561204, 1.0508154144067252, 1.0980850571207526, 1.1286787482494547, 1.1658817524992684, 1.1978471218744855, 1.2225851609892673, 1.231693423096841, 1.2514360082585538, 1.267931730363093, 1.2698704120194, 1.2682430733550742, 1.2657034130538491, 1.2603715028980877, 1.2510180400296944, 1.2403922042647593, 1.2283253434427763, 1.2120295479466652, 1.1920244562702842, 1.1744808794512827, 1.1522563476389458, 1.1309615693588173, 1.1099903753609242, 1.095060507348293, 1.0816896039264856, 1.0706836684678214, 1.0622914916203476, 1.0553170576586735, 1.051420517872423, 1.0485110140241036, 1.0470859589178299, 1.0461154085838922, 1.0448689953215673, 1.0419675854443304, 1.0365180467091295, 1.0293034526573823, 1.0227474092956996, 1.0121314956379355, 0.9941133216060192, 0.9722407677449805, 0.9526294173410584, 0.9332489319526478, 0.9162018060221284, 0.9047346241236672, 0.89749498324548, 0.8906611990923319, 0.8862175930953404, 0.8819119025304591, 0.8752316516793732, 0.866694133534757]}],                        {\"font\": {\"color\": \"Black\", \"family\": \"Roman\", \"size\": 18}, \"showlegend\": true, \"template\": {\"data\": {\"bar\": [{\"error_x\": {\"color\": \"#2a3f5f\"}, \"error_y\": {\"color\": \"#2a3f5f\"}, \"marker\": {\"line\": {\"color\": \"#E5ECF6\", \"width\": 0.5}}, \"type\": \"bar\"}], \"barpolar\": [{\"marker\": {\"line\": {\"color\": \"#E5ECF6\", \"width\": 0.5}}, \"type\": \"barpolar\"}], \"carpet\": [{\"aaxis\": {\"endlinecolor\": \"#2a3f5f\", \"gridcolor\": \"white\", \"linecolor\": \"white\", \"minorgridcolor\": \"white\", \"startlinecolor\": \"#2a3f5f\"}, \"baxis\": {\"endlinecolor\": \"#2a3f5f\", \"gridcolor\": \"white\", \"linecolor\": \"white\", \"minorgridcolor\": \"white\", \"startlinecolor\": \"#2a3f5f\"}, \"type\": \"carpet\"}], \"choropleth\": [{\"colorbar\": {\"outlinewidth\": 0, \"ticks\": \"\"}, \"type\": \"choropleth\"}], \"contour\": [{\"colorbar\": {\"outlinewidth\": 0, \"ticks\": \"\"}, \"colorscale\": [[0.0, \"#0d0887\"], [0.1111111111111111, \"#46039f\"], [0.2222222222222222, \"#7201a8\"], [0.3333333333333333, \"#9c179e\"], [0.4444444444444444, \"#bd3786\"], [0.5555555555555556, \"#d8576b\"], [0.6666666666666666, \"#ed7953\"], [0.7777777777777778, \"#fb9f3a\"], [0.8888888888888888, \"#fdca26\"], [1.0, \"#f0f921\"]], \"type\": \"contour\"}], \"contourcarpet\": [{\"colorbar\": {\"outlinewidth\": 0, \"ticks\": \"\"}, \"type\": \"contourcarpet\"}], \"heatmap\": [{\"colorbar\": {\"outlinewidth\": 0, \"ticks\": \"\"}, \"colorscale\": [[0.0, \"#0d0887\"], [0.1111111111111111, \"#46039f\"], [0.2222222222222222, \"#7201a8\"], [0.3333333333333333, \"#9c179e\"], [0.4444444444444444, \"#bd3786\"], [0.5555555555555556, \"#d8576b\"], [0.6666666666666666, \"#ed7953\"], [0.7777777777777778, \"#fb9f3a\"], [0.8888888888888888, \"#fdca26\"], [1.0, \"#f0f921\"]], \"type\": \"heatmap\"}], \"heatmapgl\": [{\"colorbar\": {\"outlinewidth\": 0, \"ticks\": \"\"}, \"colorscale\": [[0.0, \"#0d0887\"], [0.1111111111111111, \"#46039f\"], [0.2222222222222222, \"#7201a8\"], [0.3333333333333333, \"#9c179e\"], [0.4444444444444444, \"#bd3786\"], [0.5555555555555556, \"#d8576b\"], [0.6666666666666666, \"#ed7953\"], [0.7777777777777778, \"#fb9f3a\"], [0.8888888888888888, \"#fdca26\"], [1.0, \"#f0f921\"]], \"type\": \"heatmapgl\"}], \"histogram\": [{\"marker\": {\"colorbar\": {\"outlinewidth\": 0, \"ticks\": \"\"}}, \"type\": \"histogram\"}], \"histogram2d\": [{\"colorbar\": {\"outlinewidth\": 0, \"ticks\": \"\"}, \"colorscale\": [[0.0, \"#0d0887\"], [0.1111111111111111, \"#46039f\"], [0.2222222222222222, \"#7201a8\"], [0.3333333333333333, \"#9c179e\"], [0.4444444444444444, \"#bd3786\"], [0.5555555555555556, \"#d8576b\"], [0.6666666666666666, \"#ed7953\"], [0.7777777777777778, \"#fb9f3a\"], [0.8888888888888888, \"#fdca26\"], [1.0, \"#f0f921\"]], \"type\": \"histogram2d\"}], \"histogram2dcontour\": [{\"colorbar\": {\"outlinewidth\": 0, \"ticks\": \"\"}, \"colorscale\": [[0.0, \"#0d0887\"], [0.1111111111111111, \"#46039f\"], [0.2222222222222222, \"#7201a8\"], [0.3333333333333333, \"#9c179e\"], [0.4444444444444444, \"#bd3786\"], [0.5555555555555556, \"#d8576b\"], [0.6666666666666666, \"#ed7953\"], [0.7777777777777778, \"#fb9f3a\"], [0.8888888888888888, \"#fdca26\"], [1.0, \"#f0f921\"]], \"type\": \"histogram2dcontour\"}], \"mesh3d\": [{\"colorbar\": {\"outlinewidth\": 0, \"ticks\": \"\"}, \"type\": \"mesh3d\"}], \"parcoords\": [{\"line\": {\"colorbar\": {\"outlinewidth\": 0, \"ticks\": \"\"}}, \"type\": \"parcoords\"}], \"pie\": [{\"automargin\": true, \"type\": \"pie\"}], \"scatter\": [{\"marker\": {\"colorbar\": {\"outlinewidth\": 0, \"ticks\": \"\"}}, \"type\": \"scatter\"}], \"scatter3d\": [{\"line\": {\"colorbar\": {\"outlinewidth\": 0, \"ticks\": \"\"}}, \"marker\": {\"colorbar\": {\"outlinewidth\": 0, \"ticks\": \"\"}}, \"type\": \"scatter3d\"}], \"scattercarpet\": [{\"marker\": {\"colorbar\": {\"outlinewidth\": 0, \"ticks\": \"\"}}, \"type\": \"scattercarpet\"}], \"scattergeo\": [{\"marker\": {\"colorbar\": {\"outlinewidth\": 0, \"ticks\": \"\"}}, \"type\": \"scattergeo\"}], \"scattergl\": [{\"marker\": {\"colorbar\": {\"outlinewidth\": 0, \"ticks\": \"\"}}, \"type\": \"scattergl\"}], \"scattermapbox\": [{\"marker\": {\"colorbar\": {\"outlinewidth\": 0, \"ticks\": \"\"}}, \"type\": \"scattermapbox\"}], \"scatterpolar\": [{\"marker\": {\"colorbar\": {\"outlinewidth\": 0, \"ticks\": \"\"}}, \"type\": \"scatterpolar\"}], \"scatterpolargl\": [{\"marker\": {\"colorbar\": {\"outlinewidth\": 0, \"ticks\": \"\"}}, \"type\": \"scatterpolargl\"}], \"scatterternary\": [{\"marker\": {\"colorbar\": {\"outlinewidth\": 0, \"ticks\": \"\"}}, \"type\": \"scatterternary\"}], \"surface\": [{\"colorbar\": {\"outlinewidth\": 0, \"ticks\": \"\"}, \"colorscale\": [[0.0, \"#0d0887\"], [0.1111111111111111, \"#46039f\"], [0.2222222222222222, \"#7201a8\"], [0.3333333333333333, \"#9c179e\"], [0.4444444444444444, \"#bd3786\"], [0.5555555555555556, \"#d8576b\"], [0.6666666666666666, \"#ed7953\"], [0.7777777777777778, \"#fb9f3a\"], [0.8888888888888888, \"#fdca26\"], [1.0, \"#f0f921\"]], \"type\": \"surface\"}], \"table\": [{\"cells\": {\"fill\": {\"color\": \"#EBF0F8\"}, \"line\": {\"color\": \"white\"}}, \"header\": {\"fill\": {\"color\": \"#C8D4E3\"}, \"line\": {\"color\": \"white\"}}, \"type\": \"table\"}]}, \"layout\": {\"annotationdefaults\": {\"arrowcolor\": \"#2a3f5f\", \"arrowhead\": 0, \"arrowwidth\": 1}, \"autotypenumbers\": \"strict\", \"coloraxis\": {\"colorbar\": {\"outlinewidth\": 0, \"ticks\": \"\"}}, \"colorscale\": {\"diverging\": [[0, \"#8e0152\"], [0.1, \"#c51b7d\"], [0.2, \"#de77ae\"], [0.3, \"#f1b6da\"], [0.4, \"#fde0ef\"], [0.5, \"#f7f7f7\"], [0.6, \"#e6f5d0\"], [0.7, \"#b8e186\"], [0.8, \"#7fbc41\"], [0.9, \"#4d9221\"], [1, \"#276419\"]], \"sequential\": [[0.0, \"#0d0887\"], [0.1111111111111111, \"#46039f\"], [0.2222222222222222, \"#7201a8\"], [0.3333333333333333, \"#9c179e\"], [0.4444444444444444, \"#bd3786\"], [0.5555555555555556, \"#d8576b\"], [0.6666666666666666, \"#ed7953\"], [0.7777777777777778, \"#fb9f3a\"], [0.8888888888888888, \"#fdca26\"], [1.0, \"#f0f921\"]], \"sequentialminus\": [[0.0, \"#0d0887\"], [0.1111111111111111, \"#46039f\"], [0.2222222222222222, \"#7201a8\"], [0.3333333333333333, \"#9c179e\"], [0.4444444444444444, \"#bd3786\"], [0.5555555555555556, \"#d8576b\"], [0.6666666666666666, \"#ed7953\"], [0.7777777777777778, \"#fb9f3a\"], [0.8888888888888888, \"#fdca26\"], [1.0, \"#f0f921\"]]}, \"colorway\": [\"#636efa\", \"#EF553B\", \"#00cc96\", \"#ab63fa\", \"#FFA15A\", \"#19d3f3\", \"#FF6692\", \"#B6E880\", \"#FF97FF\", \"#FECB52\"], \"font\": {\"color\": \"#2a3f5f\"}, \"geo\": {\"bgcolor\": \"white\", \"lakecolor\": \"white\", \"landcolor\": \"#E5ECF6\", \"showlakes\": true, \"showland\": true, \"subunitcolor\": \"white\"}, \"hoverlabel\": {\"align\": \"left\"}, \"hovermode\": \"closest\", \"mapbox\": {\"style\": \"light\"}, \"paper_bgcolor\": \"white\", \"plot_bgcolor\": \"#E5ECF6\", \"polar\": {\"angularaxis\": {\"gridcolor\": \"white\", \"linecolor\": \"white\", \"ticks\": \"\"}, \"bgcolor\": \"#E5ECF6\", \"radialaxis\": {\"gridcolor\": \"white\", \"linecolor\": \"white\", \"ticks\": \"\"}}, \"scene\": {\"xaxis\": {\"backgroundcolor\": \"#E5ECF6\", \"gridcolor\": \"white\", \"gridwidth\": 2, \"linecolor\": \"white\", \"showbackground\": true, \"ticks\": \"\", \"zerolinecolor\": \"white\"}, \"yaxis\": {\"backgroundcolor\": \"#E5ECF6\", \"gridcolor\": \"white\", \"gridwidth\": 2, \"linecolor\": \"white\", \"showbackground\": true, \"ticks\": \"\", \"zerolinecolor\": \"white\"}, \"zaxis\": {\"backgroundcolor\": \"#E5ECF6\", \"gridcolor\": \"white\", \"gridwidth\": 2, \"linecolor\": \"white\", \"showbackground\": true, \"ticks\": \"\", \"zerolinecolor\": \"white\"}}, \"shapedefaults\": {\"line\": {\"color\": \"#2a3f5f\"}}, \"ternary\": {\"aaxis\": {\"gridcolor\": \"white\", \"linecolor\": \"white\", \"ticks\": \"\"}, \"baxis\": {\"gridcolor\": \"white\", \"linecolor\": \"white\", \"ticks\": \"\"}, \"bgcolor\": \"#E5ECF6\", \"caxis\": {\"gridcolor\": \"white\", \"linecolor\": \"white\", \"ticks\": \"\"}}, \"title\": {\"x\": 0.05}, \"xaxis\": {\"automargin\": true, \"gridcolor\": \"white\", \"linecolor\": \"white\", \"ticks\": \"\", \"title\": {\"standoff\": 15}, \"zerolinecolor\": \"white\", \"zerolinewidth\": 2}, \"yaxis\": {\"automargin\": true, \"gridcolor\": \"white\", \"linecolor\": \"white\", \"ticks\": \"\", \"title\": {\"standoff\": 15}, \"zerolinecolor\": \"white\", \"zerolinewidth\": 2}}}, \"title\": {\"text\": \"Contribution \\u00e0 la l\\u00e9talit\\u00e9 totale<br>de diff\\u00e9rentes classes d'\\u00e2ge en Suisse\", \"x\": 0.5, \"xanchor\": \"center\", \"y\": 0.9, \"yanchor\": \"top\"}, \"yaxis\": {\"title\": {\"text\": \"Contribution<br>\\u00e0 la l\\u00e9talit\\u00e9 total\"}}},                        {\"responsive\": true}                    ).then(function(){\n",
       "                            \n",
       "var gd = document.getElementById('5fec0f0d-50d3-44ef-bd22-1fda3a6dc1e8');\n",
       "var x = new MutationObserver(function (mutations, observer) {{\n",
       "        var display = window.getComputedStyle(gd).display;\n",
       "        if (!display || display === 'none') {{\n",
       "            console.log([gd, 'removed!']);\n",
       "            Plotly.purge(gd);\n",
       "            observer.disconnect();\n",
       "        }}\n",
       "}});\n",
       "\n",
       "// Listen for the removal of the full notebook cells\n",
       "var notebookContainer = gd.closest('#notebook-container');\n",
       "if (notebookContainer) {{\n",
       "    x.observe(notebookContainer, {childList: true});\n",
       "}}\n",
       "\n",
       "// Listen for the clearing of the current output cell\n",
       "var outputEl = gd.closest('.output');\n",
       "if (outputEl) {{\n",
       "    x.observe(outputEl, {childList: true});\n",
       "}}\n",
       "\n",
       "                        })                };                });            </script>        </div>"
      ]
     },
     "metadata": {},
     "output_type": "display_data"
    }
   ],
   "source": [
    "# Let us now compare the relative contribution of each age group\n",
    "# to the total COVID case fatality rate\n",
    "\n",
    "graph_title = \"Contribution à la létalité totale<br>de différentes classes d'âge en Suisse\"\n",
    "graph_yaxis = \"Contribution<br>à la létalité total\"\n",
    "picture_name = \"CFR-Contribution-de-chaque-tranche-age-en-Suisse\"\n",
    "\n",
    "fig = go.Figure()\n",
    "\n",
    "fig.add_trace(go.Scatter(x=case_fatality_rate_contribution.index, y=case_fatality_rate_contribution['Total'],\n",
    "                    line=dict(width=6),\n",
    "                    name='Total'))\n",
    "\n",
    "fig.add_trace(go.Scatter(x=case_fatality_rate_contribution.index, y=case_fatality_rate_contribution['60'],\n",
    "                    line=dict(width=4),\n",
    "                    name='60-69'))\n",
    "\n",
    "fig.add_trace(go.Scatter(x=case_fatality_rate_contribution.index, y=case_fatality_rate_contribution['70'],\n",
    "                    line=dict(width=4),\n",
    "                    name='70-79'))\n",
    "\n",
    "fig.add_trace(go.Scatter(x=case_fatality_rate_contribution.index, y=case_fatality_rate_contribution['80'],\n",
    "                    line=dict(width=4,color=\"lightgreen\"),\n",
    "                    name='80+'))\n",
    "\n",
    "\n",
    "fig.update_layout(\n",
    "\n",
    "    showlegend=True,\n",
    "    \n",
    "    title={\n",
    "        'text': graph_title,\n",
    "        'y':0.9,\n",
    "        'x':0.5,\n",
    "        'xanchor': 'center',\n",
    "        'yanchor': 'top'},\n",
    "    \n",
    "    #xaxis_title=\"log(n)\",\n",
    "    yaxis_title=graph_yaxis,\n",
    "    #legend_title=\"Asset\",\n",
    "    \n",
    "    font=dict(\n",
    "        #family=\"Courier New\",\n",
    "        family='Roman',\n",
    "        size=18,\n",
    "        color=\"Black\"\n",
    "    )\n",
    ")\n",
    "\n",
    "fig.show()\n",
    "\n",
    "fig.write_image(\"images/\" + picture_name + \".pdf\")\n",
    "fig.write_image(\"images/\" + picture_name + \".png\")"
   ]
  },
  {
   "cell_type": "code",
   "execution_count": null,
   "metadata": {},
   "outputs": [],
   "source": []
  },
  {
   "cell_type": "code",
   "execution_count": null,
   "metadata": {},
   "outputs": [],
   "source": []
  },
  {
   "cell_type": "code",
   "execution_count": null,
   "metadata": {},
   "outputs": [],
   "source": []
  },
  {
   "cell_type": "code",
   "execution_count": null,
   "metadata": {},
   "outputs": [],
   "source": []
  },
  {
   "cell_type": "code",
   "execution_count": null,
   "metadata": {},
   "outputs": [],
   "source": []
  },
  {
   "cell_type": "code",
   "execution_count": null,
   "metadata": {},
   "outputs": [],
   "source": []
  }
 ],
 "metadata": {
  "kernelspec": {
   "display_name": "Python 3",
   "language": "python",
   "name": "python3"
  },
  "language_info": {
   "codemirror_mode": {
    "name": "ipython",
    "version": 3
   },
   "file_extension": ".py",
   "mimetype": "text/x-python",
   "name": "python",
   "nbconvert_exporter": "python",
   "pygments_lexer": "ipython3",
   "version": "3.9.1"
  }
 },
 "nbformat": 4,
 "nbformat_minor": 4
}
